{
 "cells": [
  {
   "cell_type": "markdown",
   "id": "ba5b44bb",
   "metadata": {},
   "source": [
    "# Biomedical Named Entity Recognition and Relation Extraction"
   ]
  },
  {
   "cell_type": "markdown",
   "id": "d13c4f8a",
   "metadata": {},
   "source": [
    "## Project Overview\n",
    "The primary goal of this project was to perform Named Entity Recognition (NER) and Relation Extraction (RE) in the biomedical domain. Using domain-specific pretrained models such as BioBERT and SciBERT, we aimed to:\n",
    "\n",
    "* Detect and classify biomedical entities (e.g., chemicals, diseases).\n",
    "* Extract relationships between these entities (e.g., chemical-disease associations).\n",
    "\n",
    "To achieve this, we followed a structured pipeline:\n",
    "1. Dataset preparation.\n",
    "2. Preprocessing and data transformation.\n",
    "3. Model training and evaluation.\n",
    "4. Post-processing and testing on real-world text."
   ]
  },
  {
   "cell_type": "markdown",
   "id": "dd93dc72",
   "metadata": {},
   "source": [
    "### Tools and Environment Setup\n",
    "\n",
    "1. **Version Control:**\n",
    "     - Repository name: `Biomedical_NER_RE`\n",
    "     - Repository structure:\n",
    "       ```\n",
    "       ├── data/                  # Contains datasets.\n",
    "       ├── src/                   # Source code for preprocessing, training, and evaluation.\n",
    "       ├── models/                # Saved model weights.\n",
    "       ├── results/               # Evaluation results and visualizations.\n",
    "       ├── README.md              # Overview and instructions\n",
    "       └── requirements.txt       # Dependencies\n",
    "       ```\n",
    "\n",
    "2. **Environment:**\n",
    "   - **Cheaha**: Ensure you've have access to the computing resources for large-scale training.\n",
    " \n",
    "     \n",
    "3. **Install necessary dependencies:**"
   ]
  },
  {
   "cell_type": "code",
   "execution_count": 12,
   "id": "34c4758d",
   "metadata": {},
   "outputs": [],
   "source": [
    "!pip install datasets --quiet"
   ]
  },
  {
   "cell_type": "code",
   "execution_count": 13,
   "id": "6c3fde0b",
   "metadata": {},
   "outputs": [],
   "source": [
    "!pip install bioc --quiet"
   ]
  },
  {
   "cell_type": "code",
   "execution_count": 14,
   "id": "da53fab2",
   "metadata": {},
   "outputs": [],
   "source": [
    "!pip install matplotlib --quiet"
   ]
  },
  {
   "cell_type": "code",
   "execution_count": 15,
   "id": "86046426",
   "metadata": {
    "scrolled": true
   },
   "outputs": [
    {
     "name": "stdout",
     "output_type": "stream",
     "text": [
      "Requirement already satisfied: requests in /home/pperla/.conda/envs/nlp_assignment/lib/python3.12/site-packages (2.32.3)\n",
      "\u001b[31mERROR: Could not find a version that satisfies the requirement quiet (from versions: none)\u001b[0m\u001b[31m\n",
      "\u001b[0m\u001b[31mERROR: No matching distribution found for quiet\u001b[0m\u001b[31m\n",
      "\u001b[0m"
     ]
    }
   ],
   "source": [
    "!pip install requests -- quiet"
   ]
  },
  {
   "cell_type": "code",
   "execution_count": 16,
   "id": "cdf22373",
   "metadata": {},
   "outputs": [],
   "source": [
    "!pip install sklearn-crfsuite --quiet"
   ]
  },
  {
   "cell_type": "code",
   "execution_count": 17,
   "id": "55dc95b4",
   "metadata": {},
   "outputs": [],
   "source": [
    "!pip install TorchCRF --quiet"
   ]
  },
  {
   "cell_type": "code",
   "execution_count": 18,
   "id": "b2e9d4ee",
   "metadata": {
    "scrolled": true
   },
   "outputs": [
    {
     "name": "stdout",
     "output_type": "stream",
     "text": [
      "Requirement already satisfied: torch in /home/pperla/.conda/envs/nlp_assignment/lib/python3.12/site-packages (2.5.1+cu121)\n",
      "Requirement already satisfied: transformers in /home/pperla/.conda/envs/nlp_assignment/lib/python3.12/site-packages (4.47.0.dev0)\n",
      "Requirement already satisfied: filelock in /home/pperla/.conda/envs/nlp_assignment/lib/python3.12/site-packages (from torch) (3.16.1)\n",
      "Requirement already satisfied: typing-extensions>=4.8.0 in /home/pperla/.conda/envs/nlp_assignment/lib/python3.12/site-packages (from torch) (4.12.2)\n",
      "Requirement already satisfied: networkx in /home/pperla/.conda/envs/nlp_assignment/lib/python3.12/site-packages (from torch) (3.3)\n",
      "Requirement already satisfied: jinja2 in /home/pperla/.conda/envs/nlp_assignment/lib/python3.12/site-packages (from torch) (3.1.4)\n",
      "Requirement already satisfied: fsspec in /home/pperla/.conda/envs/nlp_assignment/lib/python3.12/site-packages (from torch) (2024.9.0)\n",
      "Requirement already satisfied: nvidia-cuda-nvrtc-cu12==12.1.105 in /home/pperla/.conda/envs/nlp_assignment/lib/python3.12/site-packages (from torch) (12.1.105)\n",
      "Requirement already satisfied: nvidia-cuda-runtime-cu12==12.1.105 in /home/pperla/.conda/envs/nlp_assignment/lib/python3.12/site-packages (from torch) (12.1.105)\n",
      "Requirement already satisfied: nvidia-cuda-cupti-cu12==12.1.105 in /home/pperla/.conda/envs/nlp_assignment/lib/python3.12/site-packages (from torch) (12.1.105)\n",
      "Requirement already satisfied: nvidia-cudnn-cu12==9.1.0.70 in /home/pperla/.conda/envs/nlp_assignment/lib/python3.12/site-packages (from torch) (9.1.0.70)\n",
      "Requirement already satisfied: nvidia-cublas-cu12==12.1.3.1 in /home/pperla/.conda/envs/nlp_assignment/lib/python3.12/site-packages (from torch) (12.1.3.1)\n",
      "Requirement already satisfied: nvidia-cufft-cu12==11.0.2.54 in /home/pperla/.conda/envs/nlp_assignment/lib/python3.12/site-packages (from torch) (11.0.2.54)\n",
      "Requirement already satisfied: nvidia-curand-cu12==10.3.2.106 in /home/pperla/.conda/envs/nlp_assignment/lib/python3.12/site-packages (from torch) (10.3.2.106)\n",
      "Requirement already satisfied: nvidia-cusolver-cu12==11.4.5.107 in /home/pperla/.conda/envs/nlp_assignment/lib/python3.12/site-packages (from torch) (11.4.5.107)\n",
      "Requirement already satisfied: nvidia-cusparse-cu12==12.1.0.106 in /home/pperla/.conda/envs/nlp_assignment/lib/python3.12/site-packages (from torch) (12.1.0.106)\n",
      "Requirement already satisfied: nvidia-nccl-cu12==2.21.5 in /home/pperla/.conda/envs/nlp_assignment/lib/python3.12/site-packages (from torch) (2.21.5)\n",
      "Requirement already satisfied: nvidia-nvtx-cu12==12.1.105 in /home/pperla/.conda/envs/nlp_assignment/lib/python3.12/site-packages (from torch) (12.1.105)\n",
      "Requirement already satisfied: triton==3.1.0 in /home/pperla/.conda/envs/nlp_assignment/lib/python3.12/site-packages (from torch) (3.1.0)\n",
      "Requirement already satisfied: setuptools in /home/pperla/.conda/envs/nlp_assignment/lib/python3.12/site-packages (from torch) (75.1.0)\n",
      "Requirement already satisfied: sympy==1.13.1 in /home/pperla/.conda/envs/nlp_assignment/lib/python3.12/site-packages (from torch) (1.13.1)\n",
      "Requirement already satisfied: nvidia-nvjitlink-cu12 in /home/pperla/.conda/envs/nlp_assignment/lib/python3.12/site-packages (from nvidia-cusolver-cu12==11.4.5.107->torch) (12.4.127)\n",
      "Requirement already satisfied: mpmath<1.4,>=1.1.0 in /home/pperla/.conda/envs/nlp_assignment/lib/python3.12/site-packages (from sympy==1.13.1->torch) (1.3.0)\n",
      "Requirement already satisfied: huggingface-hub<1.0,>=0.24.0 in /home/pperla/.conda/envs/nlp_assignment/lib/python3.12/site-packages (from transformers) (0.25.1)\n",
      "Requirement already satisfied: numpy>=1.17 in /home/pperla/.conda/envs/nlp_assignment/lib/python3.12/site-packages (from transformers) (1.26.4)\n",
      "Requirement already satisfied: packaging>=20.0 in /home/pperla/.conda/envs/nlp_assignment/lib/python3.12/site-packages (from transformers) (24.1)\n",
      "Requirement already satisfied: pyyaml>=5.1 in /home/pperla/.conda/envs/nlp_assignment/lib/python3.12/site-packages (from transformers) (6.0.2)\n",
      "Requirement already satisfied: regex!=2019.12.17 in /home/pperla/.conda/envs/nlp_assignment/lib/python3.12/site-packages (from transformers) (2024.9.11)\n",
      "Requirement already satisfied: requests in /home/pperla/.conda/envs/nlp_assignment/lib/python3.12/site-packages (from transformers) (2.32.3)\n",
      "Requirement already satisfied: tokenizers<0.21,>=0.20 in /home/pperla/.conda/envs/nlp_assignment/lib/python3.12/site-packages (from transformers) (0.20.3)\n",
      "Requirement already satisfied: safetensors>=0.4.1 in /home/pperla/.conda/envs/nlp_assignment/lib/python3.12/site-packages (from transformers) (0.4.5)\n",
      "Requirement already satisfied: tqdm>=4.27 in /home/pperla/.conda/envs/nlp_assignment/lib/python3.12/site-packages (from transformers) (4.66.5)\n",
      "Requirement already satisfied: MarkupSafe>=2.0 in /home/pperla/.conda/envs/nlp_assignment/lib/python3.12/site-packages (from jinja2->torch) (2.1.5)\n",
      "Requirement already satisfied: charset-normalizer<4,>=2 in /home/pperla/.conda/envs/nlp_assignment/lib/python3.12/site-packages (from requests->transformers) (3.3.2)\n",
      "Requirement already satisfied: idna<4,>=2.5 in /home/pperla/.conda/envs/nlp_assignment/lib/python3.12/site-packages (from requests->transformers) (3.10)\n",
      "Requirement already satisfied: urllib3<3,>=1.21.1 in /home/pperla/.conda/envs/nlp_assignment/lib/python3.12/site-packages (from requests->transformers) (2.2.3)\n",
      "Requirement already satisfied: certifi>=2017.4.17 in /home/pperla/.conda/envs/nlp_assignment/lib/python3.12/site-packages (from requests->transformers) (2024.8.30)\n"
     ]
    }
   ],
   "source": [
    "!pip install --upgrade torch transformers"
   ]
  },
  {
   "cell_type": "code",
   "execution_count": 19,
   "id": "39d8b528",
   "metadata": {},
   "outputs": [],
   "source": [
    "!pip install --upgrade accelerate --quiet"
   ]
  },
  {
   "cell_type": "code",
   "execution_count": 20,
   "id": "fd8d5c7c",
   "metadata": {},
   "outputs": [],
   "source": [
    "!pip install --upgrade transformers --quiet"
   ]
  },
  {
   "cell_type": "code",
   "execution_count": 21,
   "id": "655dfd34",
   "metadata": {},
   "outputs": [],
   "source": [
    "from datasets import load_dataset\n",
    "import requests\n",
    "from sklearn.model_selection import train_test_split\n",
    "import random\n",
    "from sklearn_crfsuite import CRF, metrics\n",
    "import sklearn_crfsuite\n",
    "from sklearn.feature_extraction.text import CountVectorizer\n",
    "from sklearn.linear_model import LogisticRegression\n",
    "from sklearn.metrics import classification_report\n",
    "import numpy as np\n",
    "from sklearn.ensemble import RandomForestClassifier\n",
    "from transformers import AutoTokenizer, AutoModelForTokenClassification, TrainingArguments, Trainer\n",
    "from datasets import Dataset\n",
    "from transformers import DataCollatorForTokenClassification\n",
    "from transformers import AutoModelForSequenceClassification\n",
    "import torch\n",
    "from torch import nn\n",
    "from torch.utils.data import DataLoader\n",
    "from transformers import AutoTokenizer, AutoModel, AdamW\n",
    "from collections import Counter"
   ]
  },
  {
   "cell_type": "code",
   "execution_count": 22,
   "id": "784d4655",
   "metadata": {},
   "outputs": [
    {
     "name": "stdout",
     "output_type": "stream",
     "text": [
      "The token has not been saved to the git credentials helper. Pass `add_to_git_credential=True` in this function directly or `--add-to-git-credential` if using via `huggingface-cli` if you want to set the git credential as well.\n",
      "Token is valid (permission: fineGrained).\n",
      "Your token has been saved to /home/pperla/.cache/huggingface/token\n",
      "Login successful\n"
     ]
    }
   ],
   "source": [
    "from huggingface_hub import login\n",
    "\n",
    "login(token=\"🤖\") "
   ]
  },
  {
   "cell_type": "code",
   "execution_count": 23,
   "id": "6c8bacd4",
   "metadata": {},
   "outputs": [
    {
     "name": "stdout",
     "output_type": "stream",
     "text": [
      "Is CUDA available: True\n"
     ]
    }
   ],
   "source": [
    "print(\"Is CUDA available:\", torch.cuda.is_available())"
   ]
  },
  {
   "cell_type": "markdown",
   "id": "6e238818",
   "metadata": {},
   "source": [
    "## Dataset Preparation\n",
    "\n",
    "We utilized two biomedical datasets:\n",
    "\n",
    "- **BC5CDR**: Focused on chemical-disease associations.\n",
    "    Tasks:\n",
    "    * NER: Identify Chemical and Disease entities.\n",
    "    * Relation Extraction: Extract CID (chemical-disease interaction) relationships.\n",
    "\n",
    "\n",
    "- **CHEM_DIS_GENE**: Focused on multi-entity relationships:\n",
    "    * Entity types: Chemical, Disease, Gene.\n",
    "    * Relation types: Multi-class interactions (e.g., chem_gene:affects^expression)."
   ]
  },
  {
   "cell_type": "code",
   "execution_count": 24,
   "id": "ba46b1d0",
   "metadata": {
    "scrolled": true
   },
   "outputs": [],
   "source": [
    "# Load the BC5CDR dataset\n",
    "bc5cdr = load_dataset(\"bigbio/bc5cdr\", \"bc5cdr_bigbio_kb\")\n",
    "# Load the CHEM_DIS_GENE dataset\n",
    "chem_dis_gene = load_dataset(\"bigbio/chem_dis_gene\", \"chem_dis_gene_bigbio_kb\")"
   ]
  },
  {
   "cell_type": "code",
   "execution_count": 25,
   "id": "10c85cb4",
   "metadata": {},
   "outputs": [
    {
     "data": {
      "text/plain": [
       "{'id': '0',\n",
       " 'document_id': '227508',\n",
       " 'passages': [{'id': '1',\n",
       "   'type': 'title',\n",
       "   'text': ['Naloxone reverses the antihypertensive effect of clonidine.'],\n",
       "   'offsets': [[0, 59]]},\n",
       "  {'id': '2',\n",
       "   'type': 'abstract',\n",
       "   'text': ['In unanesthetized, spontaneously hypertensive rats the decrease in blood pressure and heart rate produced by intravenous clonidine, 5 to 20 micrograms/kg, was inhibited or reversed by nalozone, 0.2 to 2 mg/kg. The hypotensive effect of 100 mg/kg alpha-methyldopa was also partially reversed by naloxone. Naloxone alone did not affect either blood pressure or heart rate. In brain membranes from spontaneously hypertensive rats clonidine, 10(-8) to 10(-5) M, did not influence stereoselective binding of [3H]-naloxone (8 nM), and naloxone, 10(-8) to 10(-4) M, did not influence clonidine-suppressible binding of [3H]-dihydroergocryptine (1 nM). These findings indicate that in spontaneously hypertensive rats the effects of central alpha-adrenoceptor stimulation involve activation of opiate receptors. As naloxone and clonidine do not appear to interact with the same receptor site, the observed functional antagonism suggests the release of an endogenous opiate by clonidine or alpha-methyldopa and the possible role of the opiate in the central control of sympathetic tone.'],\n",
       "   'offsets': [[60, 1135]]}],\n",
       " 'entities': [{'id': '3',\n",
       "   'type': 'Chemical',\n",
       "   'text': ['Naloxone'],\n",
       "   'offsets': [[0, 8]],\n",
       "   'normalized': [{'db_name': 'MESH', 'db_id': 'D009270'}]},\n",
       "  {'id': '4',\n",
       "   'type': 'Chemical',\n",
       "   'text': ['clonidine'],\n",
       "   'offsets': [[49, 58]],\n",
       "   'normalized': [{'db_name': 'MESH', 'db_id': 'D003000'}]},\n",
       "  {'id': '5',\n",
       "   'type': 'Disease',\n",
       "   'text': ['hypertensive'],\n",
       "   'offsets': [[93, 105]],\n",
       "   'normalized': [{'db_name': 'MESH', 'db_id': 'D006973'}]},\n",
       "  {'id': '6',\n",
       "   'type': 'Chemical',\n",
       "   'text': ['clonidine'],\n",
       "   'offsets': [[181, 190]],\n",
       "   'normalized': [{'db_name': 'MESH', 'db_id': 'D003000'}]},\n",
       "  {'id': '7',\n",
       "   'type': 'Chemical',\n",
       "   'text': ['nalozone'],\n",
       "   'offsets': [[244, 252]],\n",
       "   'normalized': []},\n",
       "  {'id': '8',\n",
       "   'type': 'Disease',\n",
       "   'text': ['hypotensive'],\n",
       "   'offsets': [[274, 285]],\n",
       "   'normalized': [{'db_name': 'MESH', 'db_id': 'D007022'}]},\n",
       "  {'id': '9',\n",
       "   'type': 'Chemical',\n",
       "   'text': ['alpha-methyldopa'],\n",
       "   'offsets': [[306, 322]],\n",
       "   'normalized': [{'db_name': 'MESH', 'db_id': 'D008750'}]},\n",
       "  {'id': '10',\n",
       "   'type': 'Chemical',\n",
       "   'text': ['naloxone'],\n",
       "   'offsets': [[354, 362]],\n",
       "   'normalized': [{'db_name': 'MESH', 'db_id': 'D009270'}]},\n",
       "  {'id': '11',\n",
       "   'type': 'Chemical',\n",
       "   'text': ['Naloxone'],\n",
       "   'offsets': [[364, 372]],\n",
       "   'normalized': [{'db_name': 'MESH', 'db_id': 'D009270'}]},\n",
       "  {'id': '12',\n",
       "   'type': 'Disease',\n",
       "   'text': ['hypertensive'],\n",
       "   'offsets': [[469, 481]],\n",
       "   'normalized': [{'db_name': 'MESH', 'db_id': 'D006973'}]},\n",
       "  {'id': '13',\n",
       "   'type': 'Chemical',\n",
       "   'text': ['clonidine'],\n",
       "   'offsets': [[487, 496]],\n",
       "   'normalized': [{'db_name': 'MESH', 'db_id': 'D003000'}]},\n",
       "  {'id': '14',\n",
       "   'type': 'Chemical',\n",
       "   'text': ['[3H]-naloxone'],\n",
       "   'offsets': [[563, 576]],\n",
       "   'normalized': []},\n",
       "  {'id': '15',\n",
       "   'type': 'Chemical',\n",
       "   'text': ['naloxone'],\n",
       "   'offsets': [[589, 597]],\n",
       "   'normalized': [{'db_name': 'MESH', 'db_id': 'D009270'}]},\n",
       "  {'id': '16',\n",
       "   'type': 'Chemical',\n",
       "   'text': ['clonidine'],\n",
       "   'offsets': [[637, 646]],\n",
       "   'normalized': [{'db_name': 'MESH', 'db_id': 'D003000'}]},\n",
       "  {'id': '17',\n",
       "   'type': 'Chemical',\n",
       "   'text': ['[3H]-dihydroergocryptine'],\n",
       "   'offsets': [[671, 695]],\n",
       "   'normalized': []},\n",
       "  {'id': '18',\n",
       "   'type': 'Disease',\n",
       "   'text': ['hypertensive'],\n",
       "   'offsets': [[750, 762]],\n",
       "   'normalized': [{'db_name': 'MESH', 'db_id': 'D006973'}]},\n",
       "  {'id': '19',\n",
       "   'type': 'Chemical',\n",
       "   'text': ['naloxone'],\n",
       "   'offsets': [[865, 873]],\n",
       "   'normalized': [{'db_name': 'MESH', 'db_id': 'D009270'}]},\n",
       "  {'id': '20',\n",
       "   'type': 'Chemical',\n",
       "   'text': ['clonidine'],\n",
       "   'offsets': [[878, 887]],\n",
       "   'normalized': [{'db_name': 'MESH', 'db_id': 'D003000'}]},\n",
       "  {'id': '21',\n",
       "   'type': 'Chemical',\n",
       "   'text': ['clonidine'],\n",
       "   'offsets': [[1026, 1035]],\n",
       "   'normalized': [{'db_name': 'MESH', 'db_id': 'D003000'}]},\n",
       "  {'id': '22',\n",
       "   'type': 'Chemical',\n",
       "   'text': ['alpha-methyldopa'],\n",
       "   'offsets': [[1039, 1055]],\n",
       "   'normalized': [{'db_name': 'MESH', 'db_id': 'D008750'}]}],\n",
       " 'events': [],\n",
       " 'coreferences': [],\n",
       " 'relations': [{'id': '23',\n",
       "   'type': 'CID',\n",
       "   'arg1_id': '9',\n",
       "   'arg2_id': '8',\n",
       "   'normalized': []},\n",
       "  {'id': '24',\n",
       "   'type': 'CID',\n",
       "   'arg1_id': '22',\n",
       "   'arg2_id': '8',\n",
       "   'normalized': []}]}"
      ]
     },
     "execution_count": 25,
     "metadata": {},
     "output_type": "execute_result"
    }
   ],
   "source": [
    "# dataset structure\n",
    "bc5cdr_sample = bc5cdr['train'][0]\n",
    "bc5cdr_sample"
   ]
  },
  {
   "cell_type": "code",
   "execution_count": 26,
   "id": "195760e9",
   "metadata": {},
   "outputs": [
    {
     "data": {
      "text/plain": [
       "{'id': '10095983',\n",
       " 'document_id': '10095983',\n",
       " 'passages': [{'id': '10095983_title',\n",
       "   'type': 'title',\n",
       "   'text': ['New aspects in the management of obesity: operation and the impact of lipase inhibitors.'],\n",
       "   'offsets': [[0, 88]]},\n",
       "  {'id': '10095983_abstract',\n",
       "   'type': 'abstract',\n",
       "   'text': ['Obesity is an increasing health problem in most developed countries and its prevalence is also increasing in developing countries. There has been no great success with dietary means and life style modification for permanent weight loss. Various surgical treatment methods for obesity are now available. They are aimed at limiting oral energy intake with or without causing dumping or inducing selective maldigestion and malabsorption. Based on current literature, up to 75% of excess weight is lost by surgical treatment with concomitant disappearance of hyperlipidaemias, type 2 diabetes, hypertension or sleep apnoea. The main indication for operative treatment is morbid obesity (body mass index greater than 40 kg/m2) or severe obesity (body mass index &gt; 35 kg/m2) with comorbidities of obesity. Orlistat is a new inhibitor of pancreatic lipase enzyme. At doses of 120 mg three times per day with meals it results in a 30% reduction in dietary fat absorption, which equals approximately 200 kcal daily energy deficit. In the long term, orlistat has been shown to be more effective than placebo in reducing body weight and serum total and low-density lipoprotein cholesterol levels. Orlistat has a lowering effect on serum cholesterol independent of weight loss. Along with weight loss, orlistat also favourably affects blood pressure and glucose and insulin levels in obese individuals and in obese type 2 diabetic patients.'],\n",
       "   'offsets': [[89, 1520]]}],\n",
       " 'entities': [{'id': '10095983_e_0',\n",
       "   'type': 'Disease',\n",
       "   'text': ['obesity'],\n",
       "   'offsets': [[33, 40]],\n",
       "   'normalized': [{'db_name': 'MESH', 'db_id': 'D009765'}]},\n",
       "  {'id': '10095983_e_1',\n",
       "   'type': 'Disease',\n",
       "   'text': ['weight loss'],\n",
       "   'offsets': [[313, 324]],\n",
       "   'normalized': [{'db_name': 'MESH', 'db_id': 'D015431'}]},\n",
       "  {'id': '10095983_e_2',\n",
       "   'type': 'Disease',\n",
       "   'text': ['obesity'],\n",
       "   'offsets': [[365, 372]],\n",
       "   'normalized': [{'db_name': 'MESH', 'db_id': 'D009765'}]},\n",
       "  {'id': '10095983_e_3',\n",
       "   'type': 'Disease',\n",
       "   'text': ['malabsorption'],\n",
       "   'offsets': [[509, 522]],\n",
       "   'normalized': [{'db_name': 'MESH', 'db_id': 'D008286'}]},\n",
       "  {'id': '10095983_e_4',\n",
       "   'type': 'Disease',\n",
       "   'text': ['hyperlipidaemias, type 2 diabetes'],\n",
       "   'offsets': [[644, 677]],\n",
       "   'normalized': [{'db_name': 'MESH', 'db_id': 'D003924'}]},\n",
       "  {'id': '10095983_e_5',\n",
       "   'type': 'Disease',\n",
       "   'text': ['hypertension'],\n",
       "   'offsets': [[679, 691]],\n",
       "   'normalized': [{'db_name': 'MESH', 'db_id': 'D006973'}]},\n",
       "  {'id': '10095983_e_6',\n",
       "   'type': 'Disease',\n",
       "   'text': ['sleep apnoea'],\n",
       "   'offsets': [[695, 707]],\n",
       "   'normalized': [{'db_name': 'MESH', 'db_id': 'D012891'}]},\n",
       "  {'id': '10095983_e_7',\n",
       "   'type': 'Disease',\n",
       "   'text': ['obesity'],\n",
       "   'offsets': [[763, 770]],\n",
       "   'normalized': [{'db_name': 'MESH', 'db_id': 'D009765'}]},\n",
       "  {'id': '10095983_e_8',\n",
       "   'type': 'Disease',\n",
       "   'text': ['obesity'],\n",
       "   'offsets': [[821, 828]],\n",
       "   'normalized': [{'db_name': 'MESH', 'db_id': 'D009765'}]},\n",
       "  {'id': '10095983_e_9',\n",
       "   'type': 'Disease',\n",
       "   'text': ['obesity'],\n",
       "   'offsets': [[883, 890]],\n",
       "   'normalized': [{'db_name': 'MESH', 'db_id': 'D009765'}]},\n",
       "  {'id': '10095983_e_10',\n",
       "   'type': 'Chemical',\n",
       "   'text': ['Orlistat'],\n",
       "   'offsets': [[892, 900]],\n",
       "   'normalized': [{'db_name': 'MESH', 'db_id': 'D000077403'}]},\n",
       "  {'id': '10095983_e_11',\n",
       "   'type': 'Disease',\n",
       "   'text': ['pancreatic lipase enzyme'],\n",
       "   'offsets': [[923, 947]],\n",
       "   'normalized': [{'db_name': 'OMIM', 'db_id': '614338'}]},\n",
       "  {'id': '10095983_e_12',\n",
       "   'type': 'Chemical',\n",
       "   'text': ['cholesterol'],\n",
       "   'offsets': [[1318, 1329]],\n",
       "   'normalized': [{'db_name': 'MESH', 'db_id': 'D002784'}]},\n",
       "  {'id': '10095983_e_13',\n",
       "   'type': 'Disease',\n",
       "   'text': ['weight loss'],\n",
       "   'offsets': [[1345, 1356]],\n",
       "   'normalized': [{'db_name': 'MESH', 'db_id': 'D015431'}]},\n",
       "  {'id': '10095983_e_14',\n",
       "   'type': 'Disease',\n",
       "   'text': ['weight loss'],\n",
       "   'offsets': [[1369, 1380]],\n",
       "   'normalized': [{'db_name': 'MESH', 'db_id': 'D015431'}]},\n",
       "  {'id': '10095983_e_15',\n",
       "   'type': 'Chemical',\n",
       "   'text': ['glucose'],\n",
       "   'offsets': [[1434, 1441]],\n",
       "   'normalized': [{'db_name': 'MESH', 'db_id': 'D005947'}]},\n",
       "  {'id': '10095983_e_16',\n",
       "   'type': 'Gene',\n",
       "   'text': ['insulin'],\n",
       "   'offsets': [[1446, 1453]],\n",
       "   'normalized': [{'db_name': 'NCBI', 'db_id': '3630'}]},\n",
       "  {'id': '10095983_e_17',\n",
       "   'type': 'Disease',\n",
       "   'text': ['obese'],\n",
       "   'offsets': [[1464, 1469]],\n",
       "   'normalized': [{'db_name': 'MESH', 'db_id': 'D009765'}]},\n",
       "  {'id': '10095983_e_18',\n",
       "   'type': 'Disease',\n",
       "   'text': ['obese type 2 diabetic'],\n",
       "   'offsets': [[1489, 1510]],\n",
       "   'normalized': [{'db_name': 'MESH', 'db_id': 'D003924'}]}],\n",
       " 'events': [],\n",
       " 'coreferences': [],\n",
       " 'relations': [{'id': '10095983_r_0',\n",
       "   'type': 'chem_gene:affects^expression',\n",
       "   'arg1_id': '10095983_e_10',\n",
       "   'arg2_id': '10095983_e_16',\n",
       "   'normalized': []},\n",
       "  {'id': '10095983_r_1',\n",
       "   'type': 'chem_disease:therapeutic',\n",
       "   'arg1_id': '10095983_e_10',\n",
       "   'arg2_id': '10095983_e_0',\n",
       "   'normalized': []},\n",
       "  {'id': '10095983_r_2',\n",
       "   'type': 'chem_disease:therapeutic',\n",
       "   'arg1_id': '10095983_e_10',\n",
       "   'arg2_id': '10095983_e_2',\n",
       "   'normalized': []},\n",
       "  {'id': '10095983_r_3',\n",
       "   'type': 'chem_disease:therapeutic',\n",
       "   'arg1_id': '10095983_e_10',\n",
       "   'arg2_id': '10095983_e_7',\n",
       "   'normalized': []},\n",
       "  {'id': '10095983_r_4',\n",
       "   'type': 'chem_disease:therapeutic',\n",
       "   'arg1_id': '10095983_e_10',\n",
       "   'arg2_id': '10095983_e_8',\n",
       "   'normalized': []},\n",
       "  {'id': '10095983_r_5',\n",
       "   'type': 'chem_disease:therapeutic',\n",
       "   'arg1_id': '10095983_e_10',\n",
       "   'arg2_id': '10095983_e_9',\n",
       "   'normalized': []},\n",
       "  {'id': '10095983_r_6',\n",
       "   'type': 'chem_disease:therapeutic',\n",
       "   'arg1_id': '10095983_e_10',\n",
       "   'arg2_id': '10095983_e_17',\n",
       "   'normalized': []},\n",
       "  {'id': '10095983_r_7',\n",
       "   'type': 'chem_disease:marker/mechanism',\n",
       "   'arg1_id': '10095983_e_10',\n",
       "   'arg2_id': '10095983_e_1',\n",
       "   'normalized': []},\n",
       "  {'id': '10095983_r_8',\n",
       "   'type': 'chem_disease:marker/mechanism',\n",
       "   'arg1_id': '10095983_e_10',\n",
       "   'arg2_id': '10095983_e_13',\n",
       "   'normalized': []},\n",
       "  {'id': '10095983_r_9',\n",
       "   'type': 'chem_disease:marker/mechanism',\n",
       "   'arg1_id': '10095983_e_10',\n",
       "   'arg2_id': '10095983_e_14',\n",
       "   'normalized': []},\n",
       "  {'id': '10095983_r_10',\n",
       "   'type': 'chem_disease:therapeutic',\n",
       "   'arg1_id': '10095983_e_10',\n",
       "   'arg2_id': '10095983_e_4',\n",
       "   'normalized': []},\n",
       "  {'id': '10095983_r_11',\n",
       "   'type': 'chem_disease:therapeutic',\n",
       "   'arg1_id': '10095983_e_10',\n",
       "   'arg2_id': '10095983_e_18',\n",
       "   'normalized': []},\n",
       "  {'id': '10095983_r_12',\n",
       "   'type': 'chem_disease:therapeutic',\n",
       "   'arg1_id': '10095983_e_10',\n",
       "   'arg2_id': '10095983_e_1',\n",
       "   'normalized': []},\n",
       "  {'id': '10095983_r_13',\n",
       "   'type': 'chem_disease:therapeutic',\n",
       "   'arg1_id': '10095983_e_10',\n",
       "   'arg2_id': '10095983_e_13',\n",
       "   'normalized': []},\n",
       "  {'id': '10095983_r_14',\n",
       "   'type': 'chem_disease:therapeutic',\n",
       "   'arg1_id': '10095983_e_10',\n",
       "   'arg2_id': '10095983_e_14',\n",
       "   'normalized': []}]}"
      ]
     },
     "execution_count": 26,
     "metadata": {},
     "output_type": "execute_result"
    }
   ],
   "source": [
    "# dataset structure\n",
    "chem_dis_gene_sample = chem_dis_gene['train'][0]\n",
    "chem_dis_gene_sample"
   ]
  },
  {
   "cell_type": "markdown",
   "id": "0b95c289",
   "metadata": {},
   "source": [
    "## Data Exploration"
   ]
  },
  {
   "cell_type": "code",
   "execution_count": 27,
   "id": "0dd7631a",
   "metadata": {},
   "outputs": [],
   "source": [
    "# Function to analyze the dataset\n",
    "def analyze_dataset(dataset, name):\n",
    "    num_samples = len(dataset[\"train\"])\n",
    "    entity_counts = {}\n",
    "    relation_counts = {}\n",
    "    \n",
    "    # Count entities and relations in the training data\n",
    "    for sample in dataset[\"train\"]:\n",
    "        for entity in sample.get(\"entities\", []):\n",
    "            entity_type = entity[\"type\"]\n",
    "            entity_counts[entity_type] = entity_counts.get(entity_type, 0) + 1\n",
    "        \n",
    "        for relation in sample.get(\"relations\", []):\n",
    "            relation_type = relation[\"type\"]\n",
    "            relation_counts[relation_type] = relation_counts.get(relation_type, 0) + 1\n",
    "\n",
    "    # Display the analysis results\n",
    "    print(f\"--- Analysis for {name} ---\")\n",
    "    print(f\"Number of Samples: {num_samples}\")\n",
    "    print(\"Entity Type Counts:\")\n",
    "    for entity_type, count in entity_counts.items():\n",
    "        print(f\"  {entity_type}: {count}\")\n",
    "    print(\"Relation Type Counts:\")\n",
    "    for relation_type, count in relation_counts.items():\n",
    "        print(f\"  {relation_type}: {count}\")\n",
    "    print(\"\\n\")"
   ]
  },
  {
   "cell_type": "code",
   "execution_count": 28,
   "id": "a3257231",
   "metadata": {},
   "outputs": [
    {
     "name": "stdout",
     "output_type": "stream",
     "text": [
      "--- Analysis for BC5CDR ---\n",
      "Number of Samples: 500\n",
      "Entity Type Counts:\n",
      "  Chemical: 5207\n",
      "  Disease: 4363\n",
      "Relation Type Counts:\n",
      "  CID: 15072\n",
      "\n",
      "\n"
     ]
    }
   ],
   "source": [
    "analyze_dataset(bc5cdr, \"BC5CDR\")"
   ]
  },
  {
   "cell_type": "markdown",
   "id": "55a483e2",
   "metadata": {},
   "source": [
    "#### **BC5CDR**\n",
    "- **Number of Samples**: 500\n",
    "- **Entities**:\n",
    "  - **Chemical**: 5207 occurrences.\n",
    "  - **Disease**: 4363 occurrences.\n",
    "- **Relations**:\n",
    "  - **CID (Chemical-Induced Disease)**: 15072 instances.\n",
    "\n",
    "**Implications**:\n",
    "- This dataset is well-suited for **Chemical-Disease Named Entity Recognition (NER)** and **Chemical-Disease Relation Extraction (RE)** tasks.\n",
    "- CID relations can serve as a focused objective for binary or multi-class relation extraction models."
   ]
  },
  {
   "cell_type": "code",
   "execution_count": 29,
   "id": "3475b4c9",
   "metadata": {},
   "outputs": [
    {
     "name": "stdout",
     "output_type": "stream",
     "text": [
      "--- Analysis for CHEM_DIS_GENE ---\n",
      "Number of Samples: 523\n",
      "Entity Type Counts:\n",
      "  Disease: 2931\n",
      "  Chemical: 5739\n",
      "  Gene: 5578\n",
      "Relation Type Counts:\n",
      "  chem_gene:affects^expression: 898\n",
      "  chem_disease:therapeutic: 5214\n",
      "  chem_disease:marker/mechanism: 8047\n",
      "  chem_gene:affects^binding: 3345\n",
      "  chem_gene:increases^activity: 5272\n",
      "  gene_disease:marker/mechanism: 7744\n",
      "  chem_gene:decreases^activity: 5467\n",
      "  chem_gene:increases^metabolic_processing: 2289\n",
      "  chem_gene:decreases^expression: 6806\n",
      "  chem_gene:increases^expression: 7972\n",
      "  chem_gene:decreases^transport: 284\n",
      "  chem_gene:affects^activity: 515\n",
      "  chem_gene:decreases^metabolic_processing: 1196\n",
      "  gene_disease:therapeutic: 2204\n",
      "  chem_gene:affects^metabolic_processing: 231\n",
      "  chem_gene:affects^localization: 889\n",
      "  chem_gene:increases^transport: 778\n",
      "  chem_gene:affects^transport: 263\n",
      "\n",
      "\n"
     ]
    }
   ],
   "source": [
    "analyze_dataset(chem_dis_gene, \"CHEM_DIS_GENE\")"
   ]
  },
  {
   "cell_type": "markdown",
   "id": "133dc04d",
   "metadata": {},
   "source": [
    "#### **CHEM_DIS_GENE**\n",
    "- **Number of Samples**: 523\n",
    "- **Entities**:\n",
    "  - **Disease**: 2931 occurrences.\n",
    "  - **Chemical**: 5739 occurrences.\n",
    "  - **Gene**: 5578 occurrences.\n",
    "- **Relations**: 18 relation types, including:\n",
    "  - High-frequency types:\n",
    "    - `chem_disease:therapeutic`: 5214 occurrences.\n",
    "    - `chem_gene:increases^expression`: 7972 occurrences.\n",
    "    - `chem_gene:decreases^expression`: 6806 occurrences.\n",
    "  - Low-frequency types:\n",
    "    - `chem_gene:decreases^transport`: 284 occurrences.\n",
    "    - `chem_gene:affects^metabolic_processing`: 231 occurrences.\n",
    "\n",
    "### **Implications**:\n",
    "- This dataset is ideal for **multi-entity NER** (Chemical, Disease, Gene) and **multi-class RE** involving complex relationships.\n",
    "- The diversity in relation types provides an opportunity to build and test **multi-class classifiers** or graph-based models."
   ]
  },
  {
   "cell_type": "code",
   "execution_count": 30,
   "id": "4fc942be",
   "metadata": {},
   "outputs": [],
   "source": [
    "import matplotlib.pyplot as plt\n",
    "bc5cdr_entity_counts = {\"Chemical\": 1200, \"Disease\": 1000}\n",
    "bc5cdr_relation_counts = {\"Chemical-Disease\": 500}\n",
    "\n",
    "chem_dis_gene_entity_counts = {\"Chemical\": 1500, \"Disease\": 1300, \"Gene\": 800}\n",
    "chem_dis_gene_relation_counts = {\"Chemical-Disease\": 400, \"Chemical-Gene\": 350, \"Gene-Disease\": 200}"
   ]
  },
  {
   "cell_type": "code",
   "execution_count": 31,
   "id": "ee9ef55f",
   "metadata": {},
   "outputs": [],
   "source": [
    "def plot_counts(counts, title, xlabel):\n",
    "    labels, values = zip(*counts.items())\n",
    "    plt.figure(figsize=(3, 3))\n",
    "    plt.bar(labels, values)\n",
    "    plt.title(title)\n",
    "    plt.xlabel(xlabel)\n",
    "    plt.ylabel(\"Count\")\n",
    "    plt.xticks(rotation=45)\n",
    "    plt.show()"
   ]
  },
  {
   "cell_type": "code",
   "execution_count": 32,
   "id": "ccd44345",
   "metadata": {},
   "outputs": [
    {
     "data": {
      "image/png": "[encoded data removed]",
      "text/plain": [
       "<Figure size 300x300 with 1 Axes>"
      ]
     },
     "metadata": {},
     "output_type": "display_data"
    }
   ],
   "source": [
    "plot_counts(bc5cdr_entity_counts, \"BC5CDR Entity Type Distribution\", \"Entity Types\")"
   ]
  },
  {
   "cell_type": "code",
   "execution_count": 33,
   "id": "907eef35",
   "metadata": {},
   "outputs": [
    {
     "data": {
      "image/png": "[encoded data removed]",
      "text/plain": [
       "<Figure size 300x300 with 1 Axes>"
      ]
     },
     "metadata": {},
     "output_type": "display_data"
    }
   ],
   "source": [
    "plot_counts(bc5cdr_relation_counts, \"BC5CDR Relation Type Distribution\", \"Relation Types\")"
   ]
  },
  {
   "cell_type": "code",
   "execution_count": 34,
   "id": "38f6dc93",
   "metadata": {},
   "outputs": [
    {
     "data": {
      "image/png": "[encoded data removed]",
      "text/plain": [
       "<Figure size 300x300 with 1 Axes>"
      ]
     },
     "metadata": {},
     "output_type": "display_data"
    }
   ],
   "source": [
    "plot_counts(chem_dis_gene_entity_counts, \"CHEM_DIS_GENE Entity Type Distribution\", \"Entity Types\")"
   ]
  },
  {
   "cell_type": "code",
   "execution_count": 35,
   "id": "73a1ec6e",
   "metadata": {
    "scrolled": false
   },
   "outputs": [
    {
     "data": {
      "image/png": "[encoded data removed]",
      "text/plain": [
       "<Figure size 300x300 with 1 Axes>"
      ]
     },
     "metadata": {},
     "output_type": "display_data"
    }
   ],
   "source": [
    "plot_counts(chem_dis_gene_relation_counts, \"CHEM_DIS_GENE Relation Type Distribution\", \"Relation Types\")"
   ]
  },
  {
   "cell_type": "markdown",
   "id": "2eb4c656",
   "metadata": {},
   "source": [
    "## Data Preprocessing\n",
    "\n",
    "**Entity Normalization**\n",
    "\n",
    "Used APIs like MeSH(Medical Subject Headings) to normalize Chemical and Disease entities into standardized formats for consistency.\n",
    "\n",
    "**How MeSH is Integrated in the Project**\n",
    "\n",
    "In the context of your NER and RE project, MeSH plays a key role in entity normalization. When the system detects a biomedical entity (e.g., a disease or chemical), it normalizes that entity to its corresponding MeSH ID to ensure consistency and clarity. This enables the model to:\n",
    "\n",
    "* **MeSH Terminology Examples**\n",
    "    - MeSH Term for Drug:\n",
    "        - `\"Aspirin\" -> D001249`\n",
    "        - `\"Paracetamol\" -> D010153`\n",
    "    - MeSH Term for Disease:\n",
    "        - `\"Cancer\" -> D002283`\n",
    "        - `\"Diabetes\" -> D003924`\n",
    "    - MeSH Term for Biological Process:\n",
    "        - `\"Gene Expression\" -> D005913`\n",
    "\n",
    "Map entities in the dataset (like Chemical or Disease) to standard biomedical terms.\n",
    "\n",
    "Disambiguate similar terms (e.g., \"Aspirin\" and \"acetylsalicylic acid\").\n",
    "\n",
    "Improve the accuracy of relation extraction, especially when extracting relationships between chemicals, diseases, and genes.\n"
   ]
  },
  {
   "cell_type": "code",
   "execution_count": 36,
   "id": "39236b63",
   "metadata": {},
   "outputs": [],
   "source": [
    "def normalize_entity_with_mesh(entity_name):\n",
    "    \"\"\"\n",
    "    Normalize entity names using the MeSH API.\n",
    "    Args:\n",
    "        entity_name (str): The name of the entity (Chemical/Disease).\n",
    "    Returns:\n",
    "        dict: Normalized MeSH ID and term.\n",
    "    \"\"\"\n",
    "    base_url = \"https://id.nlm.nih.gov/mesh/lookup/term\"\n",
    "    params = {\"label\": entity_name, \"match\": \"exact\"}\n",
    "    \n",
    "    try:\n",
    "        response = requests.get(base_url, params=params)\n",
    "        response.raise_for_status()\n",
    "        data = response.json()\n",
    "        \n",
    "        if data:\n",
    "            return {\"id\": data[0][\"resource\"], \"label\": data[0][\"label\"]}\n",
    "        else:\n",
    "            return {\"id\": None, \"label\": None}\n",
    "    except requests.exceptions.RequestException as e:\n",
    "        print(f\"Error querying MeSH API for {entity_name}: {e}\")\n",
    "        return {\"id\": None, \"label\": None}"
   ]
  },
  {
   "cell_type": "code",
   "execution_count": 37,
   "id": "af7639d3",
   "metadata": {},
   "outputs": [
    {
     "data": {
      "text/plain": [
       "{'Aspirin': {'id': 'http://id.nlm.nih.gov/mesh/T003713', 'label': 'Aspirin'},\n",
       " 'Fever': {'id': 'http://id.nlm.nih.gov/mesh/T016284', 'label': 'Fever'},\n",
       " 'Ibuprofen': {'id': 'http://id.nlm.nih.gov/mesh/T021099',\n",
       "  'label': 'Ibuprofen'}}"
      ]
     },
     "execution_count": 37,
     "metadata": {},
     "output_type": "execute_result"
    }
   ],
   "source": [
    "# Example usage\n",
    "example_entities = [\"Aspirin\", \"Fever\", \"Ibuprofen\"]\n",
    "normalized_entities = {entity: normalize_entity_with_mesh(entity) for entity in example_entities}\n",
    "normalized_entities"
   ]
  },
  {
   "cell_type": "code",
   "execution_count": 38,
   "id": "f5a80fbc",
   "metadata": {},
   "outputs": [
    {
     "name": "stdout",
     "output_type": "stream",
     "text": [
      "Aspirin {'id': 'http://id.nlm.nih.gov/mesh/T003713', 'label': 'Aspirin'}\n",
      "Fever {'id': 'http://id.nlm.nih.gov/mesh/T016284', 'label': 'Fever'}\n",
      "Ibuprofen {'id': 'http://id.nlm.nih.gov/mesh/T021099', 'label': 'Ibuprofen'}\n"
     ]
    }
   ],
   "source": [
    "def normalize_entity_with_mesh(entity_name):\n",
    "    base_url = \"https://id.nlm.nih.gov/mesh/lookup/term\"\n",
    "    params = {\"label\": entity_name, \"match\": \"exact\"}\n",
    "\n",
    "    try:\n",
    "        response = requests.get(base_url, params=params)\n",
    "        response.raise_for_status()\n",
    "        data = response.json()\n",
    "\n",
    "        if data:\n",
    "            return {\"id\": data[0][\"resource\"], \"label\": data[0][\"label\"]}\n",
    "        else:\n",
    "            return {\"id\": None, \"label\": None}\n",
    "    except requests.exceptions.RequestException as e:\n",
    "        print(f\"Error querying MeSH API for {entity_name}: {e}\")\n",
    "        return {\"id\": None, \"label\": None}\n",
    "\n",
    "# Test with example entities\n",
    "example_entities = [\"Aspirin\", \"Fever\", \"Ibuprofen\"]\n",
    "for entity in example_entities:\n",
    "    print(entity, normalize_entity_with_mesh(entity))"
   ]
  },
  {
   "cell_type": "markdown",
   "id": "e0e704f9",
   "metadata": {},
   "source": [
    "## Data Transform"
   ]
  },
  {
   "cell_type": "markdown",
   "id": "52114dea",
   "metadata": {},
   "source": [
    "### **NER - BIO Tagging Format**\n",
    "\n",
    "Transformed raw datasets into model-ready formats. The BIO tagging scheme represents:\n",
    "\n",
    "* `B-<entity_type>:` Beginning of an entity.\n",
    "* `I-<entity_type>:` Inside the entity.\n",
    "* `O:` Outside any entity."
   ]
  },
  {
   "cell_type": "code",
   "execution_count": 39,
   "id": "ca870308",
   "metadata": {},
   "outputs": [],
   "source": [
    "def tokenize_and_bio_tag(text, entities):\n",
    "    \"\"\"\n",
    "    Convert text and entities into token-level BIO tagging format.\n",
    "    Args:\n",
    "        text (str): The raw text.\n",
    "        entities (list of dict): List of entities with start, end, and type.\n",
    "    Returns:\n",
    "        list of tuples: Token-BIO tag pairs.\n",
    "    \"\"\"\n",
    "    import nltk\n",
    "    nltk.download(\"punkt\", quiet=True)\n",
    "    tokens = nltk.word_tokenize(text)\n",
    "    bio_tags = [\"O\"] * len(tokens)\n",
    "\n",
    "    for entity in entities:\n",
    "        entity_text = entity[\"text\"]\n",
    "        entity_start = entity[\"offsets\"][0][0]\n",
    "        entity_end = entity[\"offsets\"][0][1]\n",
    "        entity_type = entity[\"type\"]\n",
    "\n",
    "        # Locate entity in tokenized text\n",
    "        token_index = 0\n",
    "        for i, token in enumerate(tokens):\n",
    "            token_start = text.find(token, token_index)\n",
    "            token_end = token_start + len(token)\n",
    "            token_index = token_end\n",
    "\n",
    "            if token_start >= entity_start and token_end <= entity_end:\n",
    "                if token_start == entity_start:\n",
    "                    bio_tags[i] = f\"B-{entity_type}\"\n",
    "                else:\n",
    "                    bio_tags[i] = f\"I-{entity_type}\"\n",
    "\n",
    "    return list(zip(tokens, bio_tags))"
   ]
  },
  {
   "cell_type": "markdown",
   "id": "00411402",
   "metadata": {},
   "source": [
    "### **Relation Extraction - Tuple Format**\n",
    "\n",
    "The relation extraction format organizes:\n",
    "\n",
    "`<entity1, relation, entity2>`"
   ]
  },
  {
   "cell_type": "code",
   "execution_count": 40,
   "id": "807828fe",
   "metadata": {},
   "outputs": [],
   "source": [
    "def extract_relation_tuples(relations, entities):\n",
    "    \"\"\"\n",
    "    Extract relations in tuple format <entity1, relation, entity2>.\n",
    "    Args:\n",
    "        relations (list of dict): List of relations with entity IDs.\n",
    "        entities (list of dict): List of entities with IDs and types.\n",
    "    Returns:\n",
    "        list of tuples: Relations in <entity1, relation, entity2> format.\n",
    "    \"\"\"\n",
    "    entity_map = {entity[\"id\"]: entity for entity in entities}\n",
    "    relation_tuples = []\n",
    "\n",
    "    for relation in relations:\n",
    "        head_entity = entity_map.get(relation[\"arg1_id\"])\n",
    "        tail_entity = entity_map.get(relation[\"arg2_id\"])\n",
    "        if head_entity and tail_entity:\n",
    "            relation_tuples.append((head_entity[\"text\"], relation[\"type\"], tail_entity[\"text\"]))\n",
    "\n",
    "    return relation_tuples"
   ]
  },
  {
   "cell_type": "code",
   "execution_count": 41,
   "id": "c4eac500",
   "metadata": {},
   "outputs": [],
   "source": [
    "def concatenate_passages(passages):\n",
    "    \"\"\"\n",
    "    Concatenate text from passages into a single string.\n",
    "    Args:\n",
    "        passages (list): List of passage dictionaries with 'text' field.\n",
    "    Returns:\n",
    "        str: Concatenated text.\n",
    "    \"\"\"\n",
    "    return \" \".join([\" \".join(passage[\"text\"]) for passage in passages])"
   ]
  },
  {
   "cell_type": "code",
   "execution_count": 42,
   "id": "9f6939b0",
   "metadata": {},
   "outputs": [
    {
     "name": "stderr",
     "output_type": "stream",
     "text": [
      "[nltk_data] Downloading package punkt_tab to /home/pperla/nltk_data...\n",
      "[nltk_data]   Package punkt_tab is already up-to-date!\n",
      "[nltk_data] Downloading package punkt to /home/pperla/nltk_data...\n",
      "[nltk_data]   Package punkt is already up-to-date!\n"
     ]
    },
    {
     "data": {
      "text/plain": [
       "True"
      ]
     },
     "execution_count": 42,
     "metadata": {},
     "output_type": "execute_result"
    }
   ],
   "source": [
    "import nltk\n",
    "\n",
    "# Ensure necessary NLTK resources are downloaded\n",
    "nltk.download(\"punkt_tab\")\n",
    "nltk.download(\"punkt\")"
   ]
  },
  {
   "cell_type": "code",
   "execution_count": 43,
   "id": "f498c0b5",
   "metadata": {},
   "outputs": [
    {
     "name": "stdout",
     "output_type": "stream",
     "text": [
      "CPU times: user 31.5 s, sys: 3.24 s, total: 34.8 s\n",
      "Wall time: 16min 31s\n"
     ]
    }
   ],
   "source": [
    "%%time\n",
    "# Process BC5CDR dataset\n",
    "bc5cdr_processed = []\n",
    "for sample in bc5cdr[\"train\"]:\n",
    "    # Extract and concatenate text\n",
    "    sample_text = concatenate_passages(sample[\"passages\"])\n",
    "    \n",
    "    # Tokenize and BIO tag\n",
    "    bio_tags = tokenize_and_bio_tag(sample_text, sample[\"entities\"])\n",
    "    \n",
    "    # Extract relation tuples\n",
    "    relation_tuples = extract_relation_tuples(sample[\"relations\"], sample[\"entities\"])\n",
    "    \n",
    "    # Normalize entities\n",
    "    normalized_entities = [normalize_entity_with_mesh(entity[\"text\"][0]) for entity in sample[\"entities\"]]\n",
    "    \n",
    "    # Append processed sample\n",
    "    bc5cdr_processed.append({\n",
    "        \"bio_tags\": bio_tags,\n",
    "        \"relation_tuples\": relation_tuples,\n",
    "        \"normalized_entities\": normalized_entities\n",
    "    })"
   ]
  },
  {
   "cell_type": "code",
   "execution_count": 44,
   "id": "40a26dec",
   "metadata": {},
   "outputs": [
    {
     "name": "stdout",
     "output_type": "stream",
     "text": [
      "CPU times: user 47.4 s, sys: 4.63 s, total: 52 s\n",
      "Wall time: 23min 42s\n"
     ]
    }
   ],
   "source": [
    "%%time\n",
    "# Process CHEM_DIS_GENE dataset\n",
    "chem_dis_gene_processed = []\n",
    "for sample in chem_dis_gene[\"train\"]:\n",
    "    # Extract and concatenate text\n",
    "    sample_text = concatenate_passages(sample[\"passages\"])\n",
    "    \n",
    "    # Tokenize and BIO tag\n",
    "    bio_tags = tokenize_and_bio_tag(sample_text, sample[\"entities\"])\n",
    "    \n",
    "    # Extract relation tuples\n",
    "    relation_tuples = extract_relation_tuples(sample[\"relations\"], sample[\"entities\"])\n",
    "    \n",
    "    # Normalize entities\n",
    "    normalized_entities = [normalize_entity_with_mesh(entity[\"text\"][0]) for entity in sample[\"entities\"]]\n",
    "    \n",
    "    # Append processed sample\n",
    "    chem_dis_gene_processed.append({\n",
    "        \"bio_tags\": bio_tags,\n",
    "        \"relation_tuples\": relation_tuples,\n",
    "        \"normalized_entities\": normalized_entities\n",
    "    })"
   ]
  },
  {
   "cell_type": "code",
   "execution_count": 45,
   "id": "9f18baf1",
   "metadata": {
    "scrolled": true
   },
   "outputs": [
    {
     "name": "stdout",
     "output_type": "stream",
     "text": [
      "BC5CDR Processed Sample: {'bio_tags': [('Naloxone', 'B-Chemical'), ('reverses', 'O'), ('the', 'O'), ('antihypertensive', 'O'), ('effect', 'O'), ('of', 'O'), ('clonidine', 'B-Chemical'), ('.', 'O'), ('In', 'O'), ('unanesthetized', 'O'), (',', 'O'), ('spontaneously', 'O'), ('hypertensive', 'B-Disease'), ('rats', 'O'), ('the', 'O'), ('decrease', 'O'), ('in', 'O'), ('blood', 'O'), ('pressure', 'O'), ('and', 'O'), ('heart', 'O'), ('rate', 'O'), ('produced', 'O'), ('by', 'O'), ('intravenous', 'O'), ('clonidine', 'B-Chemical'), (',', 'O'), ('5', 'O'), ('to', 'O'), ('20', 'O'), ('micrograms/kg', 'O'), (',', 'O'), ('was', 'O'), ('inhibited', 'O'), ('or', 'O'), ('reversed', 'O'), ('by', 'O'), ('nalozone', 'B-Chemical'), (',', 'O'), ('0.2', 'O'), ('to', 'O'), ('2', 'O'), ('mg/kg', 'O'), ('.', 'O'), ('The', 'O'), ('hypotensive', 'B-Disease'), ('effect', 'O'), ('of', 'O'), ('100', 'O'), ('mg/kg', 'O'), ('alpha-methyldopa', 'B-Chemical'), ('was', 'O'), ('also', 'O'), ('partially', 'O'), ('reversed', 'O'), ('by', 'O'), ('naloxone', 'B-Chemical'), ('.', 'O'), ('Naloxone', 'B-Chemical'), ('alone', 'O'), ('did', 'O'), ('not', 'O'), ('affect', 'O'), ('either', 'O'), ('blood', 'O'), ('pressure', 'O'), ('or', 'O'), ('heart', 'O'), ('rate', 'O'), ('.', 'O'), ('In', 'O'), ('brain', 'O'), ('membranes', 'O'), ('from', 'O'), ('spontaneously', 'O'), ('hypertensive', 'B-Disease'), ('rats', 'O'), ('clonidine', 'B-Chemical'), (',', 'O'), ('10', 'O'), ('(', 'O'), ('-8', 'O'), (')', 'O'), ('to', 'O'), ('10', 'O'), ('(', 'O'), ('-5', 'O'), (')', 'O'), ('M', 'O'), (',', 'O'), ('did', 'O'), ('not', 'O'), ('influence', 'O'), ('stereoselective', 'O'), ('binding', 'O'), ('of', 'O'), ('[', 'B-Chemical'), ('3H', 'I-Chemical'), (']', 'I-Chemical'), ('-naloxone', 'I-Chemical'), ('(', 'O'), ('8', 'O'), ('nM', 'O'), (')', 'O'), (',', 'O'), ('and', 'O'), ('naloxone', 'B-Chemical'), (',', 'O'), ('10', 'O'), ('(', 'O'), ('-8', 'O'), (')', 'O'), ('to', 'O'), ('10', 'O'), ('(', 'O'), ('-4', 'O'), (')', 'O'), ('M', 'O'), (',', 'O'), ('did', 'O'), ('not', 'O'), ('influence', 'O'), ('clonidine-suppressible', 'O'), ('binding', 'O'), ('of', 'O'), ('[', 'B-Chemical'), ('3H', 'I-Chemical'), (']', 'I-Chemical'), ('-dihydroergocryptine', 'I-Chemical'), ('(', 'O'), ('1', 'O'), ('nM', 'O'), (')', 'O'), ('.', 'O'), ('These', 'O'), ('findings', 'O'), ('indicate', 'O'), ('that', 'O'), ('in', 'O'), ('spontaneously', 'O'), ('hypertensive', 'B-Disease'), ('rats', 'O'), ('the', 'O'), ('effects', 'O'), ('of', 'O'), ('central', 'O'), ('alpha-adrenoceptor', 'O'), ('stimulation', 'O'), ('involve', 'O'), ('activation', 'O'), ('of', 'O'), ('opiate', 'O'), ('receptors', 'O'), ('.', 'O'), ('As', 'O'), ('naloxone', 'B-Chemical'), ('and', 'O'), ('clonidine', 'B-Chemical'), ('do', 'O'), ('not', 'O'), ('appear', 'O'), ('to', 'O'), ('interact', 'O'), ('with', 'O'), ('the', 'O'), ('same', 'O'), ('receptor', 'O'), ('site', 'O'), (',', 'O'), ('the', 'O'), ('observed', 'O'), ('functional', 'O'), ('antagonism', 'O'), ('suggests', 'O'), ('the', 'O'), ('release', 'O'), ('of', 'O'), ('an', 'O'), ('endogenous', 'O'), ('opiate', 'O'), ('by', 'O'), ('clonidine', 'B-Chemical'), ('or', 'O'), ('alpha-methyldopa', 'B-Chemical'), ('and', 'O'), ('the', 'O'), ('possible', 'O'), ('role', 'O'), ('of', 'O'), ('the', 'O'), ('opiate', 'O'), ('in', 'O'), ('the', 'O'), ('central', 'O'), ('control', 'O'), ('of', 'O'), ('sympathetic', 'O'), ('tone', 'O'), ('.', 'O')], 'relation_tuples': [(['alpha-methyldopa'], 'CID', ['hypotensive']), (['alpha-methyldopa'], 'CID', ['hypotensive'])], 'normalized_entities': [{'id': 'http://id.nlm.nih.gov/mesh/T027668', 'label': 'Naloxone'}, {'id': 'http://id.nlm.nih.gov/mesh/T008702', 'label': 'Clonidine'}, {'id': None, 'label': None}, {'id': 'http://id.nlm.nih.gov/mesh/T008702', 'label': 'Clonidine'}, {'id': None, 'label': None}, {'id': None, 'label': None}, {'id': 'http://id.nlm.nih.gov/mesh/T026072', 'label': 'alpha-Methyldopa'}, {'id': 'http://id.nlm.nih.gov/mesh/T027668', 'label': 'Naloxone'}, {'id': 'http://id.nlm.nih.gov/mesh/T027668', 'label': 'Naloxone'}, {'id': None, 'label': None}, {'id': 'http://id.nlm.nih.gov/mesh/T008702', 'label': 'Clonidine'}, {'id': None, 'label': None}, {'id': 'http://id.nlm.nih.gov/mesh/T027668', 'label': 'Naloxone'}, {'id': 'http://id.nlm.nih.gov/mesh/T008702', 'label': 'Clonidine'}, {'id': None, 'label': None}, {'id': None, 'label': None}, {'id': 'http://id.nlm.nih.gov/mesh/T027668', 'label': 'Naloxone'}, {'id': 'http://id.nlm.nih.gov/mesh/T008702', 'label': 'Clonidine'}, {'id': 'http://id.nlm.nih.gov/mesh/T008702', 'label': 'Clonidine'}, {'id': 'http://id.nlm.nih.gov/mesh/T026072', 'label': 'alpha-Methyldopa'}]}\n"
     ]
    }
   ],
   "source": [
    "# Example outputs\n",
    "print(\"BC5CDR Processed Sample:\", bc5cdr_processed[0])"
   ]
  },
  {
   "cell_type": "code",
   "execution_count": 46,
   "id": "f69a4a15",
   "metadata": {
    "scrolled": true
   },
   "outputs": [
    {
     "name": "stdout",
     "output_type": "stream",
     "text": [
      "CHEM_DIS_GENE Processed Sample: {'bio_tags': [('New', 'O'), ('aspects', 'O'), ('in', 'O'), ('the', 'O'), ('management', 'O'), ('of', 'O'), ('obesity', 'B-Disease'), (':', 'O'), ('operation', 'O'), ('and', 'O'), ('the', 'O'), ('impact', 'O'), ('of', 'O'), ('lipase', 'O'), ('inhibitors', 'O'), ('.', 'O'), ('Obesity', 'O'), ('is', 'O'), ('an', 'O'), ('increasing', 'O'), ('health', 'O'), ('problem', 'O'), ('in', 'O'), ('most', 'O'), ('developed', 'O'), ('countries', 'O'), ('and', 'O'), ('its', 'O'), ('prevalence', 'O'), ('is', 'O'), ('also', 'O'), ('increasing', 'O'), ('in', 'O'), ('developing', 'O'), ('countries', 'O'), ('.', 'O'), ('There', 'O'), ('has', 'O'), ('been', 'O'), ('no', 'O'), ('great', 'O'), ('success', 'O'), ('with', 'O'), ('dietary', 'O'), ('means', 'O'), ('and', 'O'), ('life', 'O'), ('style', 'O'), ('modification', 'O'), ('for', 'O'), ('permanent', 'O'), ('weight', 'B-Disease'), ('loss', 'I-Disease'), ('.', 'O'), ('Various', 'O'), ('surgical', 'O'), ('treatment', 'O'), ('methods', 'O'), ('for', 'O'), ('obesity', 'B-Disease'), ('are', 'O'), ('now', 'O'), ('available', 'O'), ('.', 'O'), ('They', 'O'), ('are', 'O'), ('aimed', 'O'), ('at', 'O'), ('limiting', 'O'), ('oral', 'O'), ('energy', 'O'), ('intake', 'O'), ('with', 'O'), ('or', 'O'), ('without', 'O'), ('causing', 'O'), ('dumping', 'O'), ('or', 'O'), ('inducing', 'O'), ('selective', 'O'), ('maldigestion', 'O'), ('and', 'O'), ('malabsorption', 'B-Disease'), ('.', 'O'), ('Based', 'O'), ('on', 'O'), ('current', 'O'), ('literature', 'O'), (',', 'O'), ('up', 'O'), ('to', 'O'), ('75', 'O'), ('%', 'O'), ('of', 'O'), ('excess', 'O'), ('weight', 'O'), ('is', 'O'), ('lost', 'O'), ('by', 'O'), ('surgical', 'O'), ('treatment', 'O'), ('with', 'O'), ('concomitant', 'O'), ('disappearance', 'O'), ('of', 'O'), ('hyperlipidaemias', 'B-Disease'), (',', 'I-Disease'), ('type', 'I-Disease'), ('2', 'I-Disease'), ('diabetes', 'I-Disease'), (',', 'O'), ('hypertension', 'B-Disease'), ('or', 'O'), ('sleep', 'B-Disease'), ('apnoea', 'I-Disease'), ('.', 'O'), ('The', 'O'), ('main', 'O'), ('indication', 'O'), ('for', 'O'), ('operative', 'O'), ('treatment', 'O'), ('is', 'O'), ('morbid', 'O'), ('obesity', 'B-Disease'), ('(', 'O'), ('body', 'O'), ('mass', 'O'), ('index', 'O'), ('greater', 'O'), ('than', 'O'), ('40', 'O'), ('kg/m2', 'O'), (')', 'O'), ('or', 'O'), ('severe', 'O'), ('obesity', 'B-Disease'), ('(', 'O'), ('body', 'O'), ('mass', 'O'), ('index', 'O'), ('&', 'O'), ('gt', 'O'), (';', 'O'), ('35', 'O'), ('kg/m2', 'O'), (')', 'O'), ('with', 'O'), ('comorbidities', 'O'), ('of', 'O'), ('obesity', 'B-Disease'), ('.', 'O'), ('Orlistat', 'B-Chemical'), ('is', 'O'), ('a', 'O'), ('new', 'O'), ('inhibitor', 'O'), ('of', 'O'), ('pancreatic', 'B-Disease'), ('lipase', 'I-Disease'), ('enzyme', 'I-Disease'), ('.', 'O'), ('At', 'O'), ('doses', 'O'), ('of', 'O'), ('120', 'O'), ('mg', 'O'), ('three', 'O'), ('times', 'O'), ('per', 'O'), ('day', 'O'), ('with', 'O'), ('meals', 'O'), ('it', 'O'), ('results', 'O'), ('in', 'O'), ('a', 'O'), ('30', 'O'), ('%', 'O'), ('reduction', 'O'), ('in', 'O'), ('dietary', 'O'), ('fat', 'O'), ('absorption', 'O'), (',', 'O'), ('which', 'O'), ('equals', 'O'), ('approximately', 'O'), ('200', 'O'), ('kcal', 'O'), ('daily', 'O'), ('energy', 'O'), ('deficit', 'O'), ('.', 'O'), ('In', 'O'), ('the', 'O'), ('long', 'O'), ('term', 'O'), (',', 'O'), ('orlistat', 'O'), ('has', 'O'), ('been', 'O'), ('shown', 'O'), ('to', 'O'), ('be', 'O'), ('more', 'O'), ('effective', 'O'), ('than', 'O'), ('placebo', 'O'), ('in', 'O'), ('reducing', 'O'), ('body', 'O'), ('weight', 'O'), ('and', 'O'), ('serum', 'O'), ('total', 'O'), ('and', 'O'), ('low-density', 'O'), ('lipoprotein', 'O'), ('cholesterol', 'O'), ('levels', 'O'), ('.', 'O'), ('Orlistat', 'O'), ('has', 'O'), ('a', 'O'), ('lowering', 'O'), ('effect', 'O'), ('on', 'O'), ('serum', 'O'), ('cholesterol', 'B-Chemical'), ('independent', 'O'), ('of', 'O'), ('weight', 'B-Disease'), ('loss', 'I-Disease'), ('.', 'O'), ('Along', 'O'), ('with', 'O'), ('weight', 'B-Disease'), ('loss', 'I-Disease'), (',', 'O'), ('orlistat', 'O'), ('also', 'O'), ('favourably', 'O'), ('affects', 'O'), ('blood', 'O'), ('pressure', 'O'), ('and', 'O'), ('glucose', 'B-Chemical'), ('and', 'O'), ('insulin', 'B-Gene'), ('levels', 'O'), ('in', 'O'), ('obese', 'B-Disease'), ('individuals', 'O'), ('and', 'O'), ('in', 'O'), ('obese', 'B-Disease'), ('type', 'I-Disease'), ('2', 'I-Disease'), ('diabetic', 'I-Disease'), ('patients', 'O'), ('.', 'O')], 'relation_tuples': [(['Orlistat'], 'chem_gene:affects^expression', ['insulin']), (['Orlistat'], 'chem_disease:therapeutic', ['obesity']), (['Orlistat'], 'chem_disease:therapeutic', ['obesity']), (['Orlistat'], 'chem_disease:therapeutic', ['obesity']), (['Orlistat'], 'chem_disease:therapeutic', ['obesity']), (['Orlistat'], 'chem_disease:therapeutic', ['obesity']), (['Orlistat'], 'chem_disease:therapeutic', ['obese']), (['Orlistat'], 'chem_disease:marker/mechanism', ['weight loss']), (['Orlistat'], 'chem_disease:marker/mechanism', ['weight loss']), (['Orlistat'], 'chem_disease:marker/mechanism', ['weight loss']), (['Orlistat'], 'chem_disease:therapeutic', ['hyperlipidaemias, type 2 diabetes']), (['Orlistat'], 'chem_disease:therapeutic', ['obese type 2 diabetic']), (['Orlistat'], 'chem_disease:therapeutic', ['weight loss']), (['Orlistat'], 'chem_disease:therapeutic', ['weight loss']), (['Orlistat'], 'chem_disease:therapeutic', ['weight loss'])], 'normalized_entities': [{'id': 'http://id.nlm.nih.gov/mesh/T029022', 'label': 'Obesity'}, {'id': 'http://id.nlm.nih.gov/mesh/T045556', 'label': 'Weight Loss'}, {'id': 'http://id.nlm.nih.gov/mesh/T029022', 'label': 'Obesity'}, {'id': None, 'label': None}, {'id': None, 'label': None}, {'id': 'http://id.nlm.nih.gov/mesh/T020937', 'label': 'Hypertension'}, {'id': None, 'label': None}, {'id': 'http://id.nlm.nih.gov/mesh/T029022', 'label': 'Obesity'}, {'id': 'http://id.nlm.nih.gov/mesh/T029022', 'label': 'Obesity'}, {'id': 'http://id.nlm.nih.gov/mesh/T029022', 'label': 'Obesity'}, {'id': 'http://id.nlm.nih.gov/mesh/T000939569', 'label': 'Orlistat'}, {'id': None, 'label': None}, {'id': 'http://id.nlm.nih.gov/mesh/T008078', 'label': 'Cholesterol'}, {'id': 'http://id.nlm.nih.gov/mesh/T045556', 'label': 'Weight Loss'}, {'id': 'http://id.nlm.nih.gov/mesh/T045556', 'label': 'Weight Loss'}, {'id': 'http://id.nlm.nih.gov/mesh/T018006', 'label': 'Glucose'}, {'id': 'http://id.nlm.nih.gov/mesh/T021939', 'label': 'Insulin'}, {'id': None, 'label': None}, {'id': None, 'label': None}]}\n"
     ]
    }
   ],
   "source": [
    "print(\"CHEM_DIS_GENE Processed Sample:\", chem_dis_gene_processed[0])"
   ]
  },
  {
   "cell_type": "markdown",
   "id": "707709c1",
   "metadata": {},
   "source": [
    "### **Splitting the data**\n",
    "\n",
    "Created training/validation/test splits (70/15/15)."
   ]
  },
  {
   "cell_type": "code",
   "execution_count": 36,
   "id": "b3ee501e",
   "metadata": {},
   "outputs": [],
   "source": [
    "def split_dataset(processed_data, train_ratio=0.7, val_ratio=0.15, test_ratio=0.15, seed=42):\n",
    "    \"\"\"\n",
    "    Split the dataset into train, validation, and test sets.\n",
    "    Args:\n",
    "        processed_data (list): List of processed data samples.\n",
    "        train_ratio (float): Proportion of the data for training.\n",
    "        val_ratio (float): Proportion of the data for validation.\n",
    "        test_ratio (float): Proportion of the data for testing.\n",
    "        seed (int): Random seed for reproducibility.\n",
    "    Returns:\n",
    "        dict: Split datasets with 'train', 'val', and 'test' keys.\n",
    "    \"\"\"\n",
    "    # Shuffle the data\n",
    "    random.seed(seed)\n",
    "    random.shuffle(processed_data)\n",
    "    \n",
    "    # Compute split indices\n",
    "    total = len(processed_data)\n",
    "    train_end = int(total * train_ratio)\n",
    "    val_end = train_end + int(total * val_ratio)\n",
    "    \n",
    "    # Split data\n",
    "    train_data = processed_data[:train_end]\n",
    "    val_data = processed_data[train_end:val_end]\n",
    "    test_data = processed_data[val_end:]\n",
    "    \n",
    "    return {\"train\": train_data, \"val\": val_data, \"test\": test_data}"
   ]
  },
  {
   "cell_type": "code",
   "execution_count": 37,
   "id": "aa17f6fd",
   "metadata": {},
   "outputs": [],
   "source": [
    "# Split the processed BC5CDR dataset\n",
    "bc5cdr_splits = split_dataset(bc5cdr_processed)\n",
    "\n",
    "# Split the processed CHEM_DIS_GENE dataset\n",
    "chem_dis_gene_splits = split_dataset(chem_dis_gene_processed)"
   ]
  },
  {
   "cell_type": "code",
   "execution_count": 38,
   "id": "b97401d0",
   "metadata": {
    "scrolled": true
   },
   "outputs": [
    {
     "name": "stdout",
     "output_type": "stream",
     "text": [
      "BC5CDR Train Sample: 350\n",
      "BC5CDR Validation Sample: 75\n",
      "BC5CDR Test Sample: 75\n"
     ]
    }
   ],
   "source": [
    "print(\"BC5CDR Train Sample:\", len(bc5cdr_splits[\"train\"]))\n",
    "print(\"BC5CDR Validation Sample:\", len(bc5cdr_splits[\"val\"]))\n",
    "print(\"BC5CDR Test Sample:\", len(bc5cdr_splits[\"test\"]))"
   ]
  },
  {
   "cell_type": "code",
   "execution_count": 39,
   "id": "018dd7da",
   "metadata": {
    "scrolled": true
   },
   "outputs": [
    {
     "name": "stdout",
     "output_type": "stream",
     "text": [
      "CHEM_DIS_GENE Train Sample: 366\n",
      "CHEM_DIS_GENE Validation Sample: 78\n",
      "CHEM_DIS_GENE Test Sample: 79\n"
     ]
    }
   ],
   "source": [
    "print(\"CHEM_DIS_GENE Train Sample:\", len(chem_dis_gene_splits[\"train\"]))\n",
    "print(\"CHEM_DIS_GENE Validation Sample:\", len(chem_dis_gene_splits[\"val\"]))\n",
    "print(\"CHEM_DIS_GENE Test Sample:\", len(chem_dis_gene_splits[\"test\"]))"
   ]
  },
  {
   "cell_type": "markdown",
   "id": "d38dad93",
   "metadata": {},
   "source": [
    "## Model Selection and Training"
   ]
  },
  {
   "cell_type": "markdown",
   "id": "cb59510f",
   "metadata": {},
   "source": [
    "## Baseline Models\n",
    "\n",
    "### Named Entity Recognition (NER)\n",
    "- Approach: We will train a CRF (It is a type of probabilistic model that uses conditional probabilities to predict outcomes.)\n",
    "- Features: Each token represented by its raw text (simple, no embeddings).\n",
    "- Algorithm: CRF with lbfgs optimization.\n",
    "- Evaluation: Predicted BIO tags were compared to ground truth tags using precision, recall, and F1-score.\n",
    "\n",
    "### Relation Extraction (RE)\n",
    "- Approach: We will train a Logistic Regression model\n",
    "- Features: Textual contexts generated by combining entity pairs and their relationship type.\n",
    "- Vectorization: Used CountVectorizer to convert textual contexts into numeric feature vectors.\n",
    "- Evaluation: Predicted relationships were compared to ground truth using precision, recall, and F1-score."
   ]
  },
  {
   "cell_type": "code",
   "execution_count": 41,
   "id": "0dd6d30b",
   "metadata": {},
   "outputs": [],
   "source": [
    "def prepare_ner_data(dataset):\n",
    "    \"\"\"\n",
    "    Prepares data for CRF-based NER model.\n",
    "    Args:\n",
    "        dataset (list): Dataset with BIO-tagged tokens.\n",
    "    Returns:\n",
    "        list, list: Features and labels for the CRF model.\n",
    "    \"\"\"\n",
    "    features = []\n",
    "    labels = []\n",
    "    for sample in dataset:\n",
    "        tokens, tags = zip(*sample[\"bio_tags\"])\n",
    "        features.append([{\"word\": token} for token in tokens])  # Feature: word\n",
    "        labels.append(tags)\n",
    "    return features, labels"
   ]
  },
  {
   "cell_type": "code",
   "execution_count": 42,
   "id": "4f6f6f85",
   "metadata": {},
   "outputs": [],
   "source": [
    "def generate_negative_samples(dataset, negative_ratio=1.0):\n",
    "    \"\"\"\n",
    "    Generate negative samples for the BC5CDR dataset.\n",
    "    Args:\n",
    "        dataset (list): Processed dataset with relation tuples.\n",
    "        negative_ratio (float): Ratio of negative samples to positive samples.\n",
    "    Returns:\n",
    "        list: Dataset with added negative samples.\n",
    "    \"\"\"\n",
    "    updated_dataset = []\n",
    "    for sample in dataset:\n",
    "        positive_relations = sample[\"relation_tuples\"]\n",
    "        entities = [entity[\"label\"] for entity in sample[\"normalized_entities\"]]\n",
    "        negative_relations = []\n",
    "\n",
    "        # Generate all possible entity pairs\n",
    "        entity_pairs = [(e1, e2) for e1 in entities for e2 in entities if e1 != e2]\n",
    "        \n",
    "        # Create negative samples (pairs without CID relation)\n",
    "        for entity1, entity2 in entity_pairs:\n",
    "            if not any(entity1 == r[0] and entity2 == r[2] for r in positive_relations):\n",
    "                negative_relations.append((entity1, \"NO_RELATION\", entity2))\n",
    "        \n",
    "        # Limit negative samples\n",
    "        num_negative = int(len(positive_relations) * negative_ratio)\n",
    "        negative_relations = negative_relations[:num_negative]\n",
    "        \n",
    "        # Combine positive and negative samples\n",
    "        updated_sample = {\n",
    "            \"relation_tuples\": positive_relations + negative_relations,\n",
    "            \"bio_tags\": sample[\"bio_tags\"],\n",
    "            \"normalized_entities\": sample[\"normalized_entities\"],\n",
    "        }\n",
    "        updated_dataset.append(updated_sample)\n",
    "    return updated_dataset"
   ]
  },
  {
   "cell_type": "code",
   "execution_count": 43,
   "id": "5189244c",
   "metadata": {},
   "outputs": [],
   "source": [
    "def prepare_relation_data(dataset):\n",
    "    \"\"\"\n",
    "    Prepares data for relation extraction baseline.\n",
    "    Args:\n",
    "        dataset (list): Dataset with relation tuples.\n",
    "    Returns:\n",
    "        list, list: Features (contexts) and labels (relations).\n",
    "    \"\"\"\n",
    "    contexts = []\n",
    "    labels = []\n",
    "    for sample in dataset:\n",
    "        for relation in sample[\"relation_tuples\"]:\n",
    "            entity1, relation_type, entity2 = relation\n",
    "            context = f\"{entity1} {relation_type} {entity2}\"\n",
    "            contexts.append(context)\n",
    "            labels.append(relation_type)\n",
    "    return contexts, labels"
   ]
  },
  {
   "cell_type": "code",
   "execution_count": 44,
   "id": "64c117b9",
   "metadata": {},
   "outputs": [],
   "source": [
    "# --- Model Training ---\n",
    "\n",
    "# Train and evaluate NER model\n",
    "def train_ner_model(train_data, test_data):\n",
    "    # Prepare training and testing data for NER\n",
    "    train_features, train_labels = prepare_ner_data(train_data)\n",
    "    test_features, test_labels = prepare_ner_data(test_data)\n",
    "\n",
    "    # Train CRF model\n",
    "    crf = CRF(algorithm=\"lbfgs\", max_iterations=100)\n",
    "    crf.fit(train_features, train_labels)\n",
    "\n",
    "    # Predict and evaluate\n",
    "    predictions = crf.predict(test_features)\n",
    "    print(\"NER Classification Report:\")\n",
    "    print(metrics.flat_classification_report(test_labels, predictions))\n",
    "\n",
    "    return crf"
   ]
  },
  {
   "cell_type": "code",
   "execution_count": 45,
   "id": "9176e682",
   "metadata": {},
   "outputs": [],
   "source": [
    "# Train and evaluate relation extraction model\n",
    "def train_relation_model(train_data, test_data, multi_class=True):\n",
    "    # Prepare training and testing data for relation extraction\n",
    "    train_contexts, train_labels = prepare_relation_data(train_data)\n",
    "    test_contexts, test_labels = prepare_relation_data(test_data)\n",
    "\n",
    "    # Vectorize contexts\n",
    "    vectorizer = CountVectorizer()\n",
    "    X_train = vectorizer.fit_transform(train_contexts)\n",
    "    X_test = vectorizer.transform(test_contexts)\n",
    "\n",
    "    # Train Logistic Regression model\n",
    "    clf = LogisticRegression(max_iter=1000)\n",
    "    clf.fit(X_train, train_labels)\n",
    "\n",
    "    # Predict and evaluate\n",
    "    predictions = clf.predict(X_test)\n",
    "    print(\"Relation Extraction Classification Report:\")\n",
    "    print(classification_report(test_labels, predictions))\n",
    "\n",
    "    return clf, vectorizer"
   ]
  },
  {
   "cell_type": "code",
   "execution_count": 46,
   "id": "efb8c444",
   "metadata": {},
   "outputs": [
    {
     "name": "stdout",
     "output_type": "stream",
     "text": [
      "NER Classification Report:\n",
      "              precision    recall  f1-score   support\n",
      "\n",
      "  B-Chemical       0.96      0.18      0.30       721\n",
      "   B-Disease       0.85      0.35      0.50       602\n",
      "  I-Chemical       1.00      0.09      0.17       161\n",
      "   I-Disease       0.75      0.34      0.47       362\n",
      "           O       0.92      1.00      0.95     14512\n",
      "\n",
      "    accuracy                           0.91     16358\n",
      "   macro avg       0.90      0.39      0.48     16358\n",
      "weighted avg       0.91      0.91      0.89     16358\n",
      "\n",
      "Relation Extraction Classification Report:\n",
      "              precision    recall  f1-score   support\n",
      "\n",
      "         CID       1.00      1.00      1.00      1892\n",
      "\n",
      "    accuracy                           1.00      1892\n",
      "   macro avg       1.00      1.00      1.00      1892\n",
      "weighted avg       1.00      1.00      1.00      1892\n",
      "\n"
     ]
    }
   ],
   "source": [
    "# For BC5CDR: Binary Relation Extraction\n",
    "bc5cdr_train = generate_negative_samples(bc5cdr_splits[\"train\"], negative_ratio=1.0)\n",
    "ner_model = train_ner_model(bc5cdr_splits[\"train\"], bc5cdr_splits[\"test\"])\n",
    "relation_model, vectorizer = train_relation_model(bc5cdr_train, bc5cdr_splits[\"test\"], multi_class=False)"
   ]
  },
  {
   "cell_type": "code",
   "execution_count": 47,
   "id": "d4737806",
   "metadata": {},
   "outputs": [
    {
     "name": "stdout",
     "output_type": "stream",
     "text": [
      "Relation Extraction Classification Report:\n",
      "                                          precision    recall  f1-score   support\n",
      "\n",
      "           chem_disease:marker/mechanism       1.00      1.00      1.00      1184\n",
      "                chem_disease:therapeutic       1.00      1.00      1.00      1416\n",
      "              chem_gene:affects^activity       1.00      1.00      1.00        80\n",
      "               chem_gene:affects^binding       1.00      1.00      1.00       488\n",
      "            chem_gene:affects^expression       1.00      1.00      1.00       203\n",
      "          chem_gene:affects^localization       1.00      1.00      1.00       379\n",
      "  chem_gene:affects^metabolic_processing       1.00      1.00      1.00        36\n",
      "             chem_gene:affects^transport       1.00      1.00      1.00       106\n",
      "            chem_gene:decreases^activity       1.00      1.00      1.00      1171\n",
      "          chem_gene:decreases^expression       1.00      1.00      1.00      1347\n",
      "chem_gene:decreases^metabolic_processing       1.00      1.00      1.00       231\n",
      "           chem_gene:decreases^transport       1.00      1.00      1.00        11\n",
      "            chem_gene:increases^activity       1.00      1.00      1.00       753\n",
      "          chem_gene:increases^expression       1.00      1.00      1.00      1463\n",
      "chem_gene:increases^metabolic_processing       1.00      1.00      1.00       571\n",
      "           chem_gene:increases^transport       1.00      1.00      1.00        88\n",
      "           gene_disease:marker/mechanism       1.00      1.00      1.00       602\n",
      "                gene_disease:therapeutic       1.00      1.00      1.00       191\n",
      "\n",
      "                                accuracy                           1.00     10320\n",
      "                               macro avg       1.00      1.00      1.00     10320\n",
      "                            weighted avg       1.00      1.00      1.00     10320\n",
      "\n"
     ]
    }
   ],
   "source": [
    "# For CHEM_DIS_GENE: Multi-Class Relation Extraction\n",
    "relation_model_multi, vectorizer_multi = train_relation_model(chem_dis_gene_splits[\"train\"], chem_dis_gene_splits[\"test\"])"
   ]
  },
  {
   "cell_type": "code",
   "execution_count": 161,
   "id": "ccf8df73",
   "metadata": {},
   "outputs": [
    {
     "name": "stdout",
     "output_type": "stream",
     "text": [
      "Context: Aspirin affects liver function --> Predicted Relation: CID\n",
      "Context: Aspirin affects hypertension --> Predicted Relation: CID\n"
     ]
    }
   ],
   "source": [
    "# Example real-world biomedical text\n",
    "input_text = \"\"\"\n",
    "The patient was treated with Aspirin for pain relief, but experienced a side effect of nausea. \n",
    "Studies have shown that Aspirin may have an impact on liver function in patients with pre-existing liver diseases.\n",
    "The effect of aspirin on hypertension is also widely discussed in clinical research.\n",
    "\"\"\"\n",
    "\n",
    "# Corrected entity pairs (each tuple should have 3 elements: entity1, relation, entity2)\n",
    "entity_pairs = [\n",
    "    (\"Aspirin\", \"affects\", \"liver function\"),  # Corrected to include \"affects\" as relation and \"liver function\" as entity2\n",
    "    (\"Aspirin\", \"affects\", \"hypertension\")    # Same correction for hypertension\n",
    "]\n",
    "\n",
    "# Create contexts for each pair (now correctly includes 3 elements per tuple)\n",
    "contexts = [f\"{e1} {relation} {e2}\" for e1, relation, e2 in entity_pairs]\n",
    "\n",
    "# Vectorize contexts using the same vectorizer from training\n",
    "X_real = vectorizer.transform(contexts)\n",
    "\n",
    "# Predict using the trained relation extraction model\n",
    "predictions = relation_model.predict(X_real)\n",
    "\n",
    "# Output predictions\n",
    "for context, pred in zip(contexts, predictions):\n",
    "    print(f\"Context: {context} --> Predicted Relation: {pred}\")\n"
   ]
  },
  {
   "cell_type": "markdown",
   "id": "adf1cb90",
   "metadata": {},
   "source": [
    "**Expected Output:**\n",
    "\n",
    "Context: Aspirin affects liver function --> Predicted Relation: chem_disease:therapeutic\n",
    "\n",
    "Context: Aspirin affects hypertension --> Predicted Relation: chem_disease:therapeutic\n",
    "\n",
    "**obviously model trained for RE is overfitting**"
   ]
  },
  {
   "cell_type": "markdown",
   "id": "94fe913b",
   "metadata": {},
   "source": [
    "## "
   ]
  },
  {
   "cell_type": "markdown",
   "id": "4655d6ee",
   "metadata": {},
   "source": [
    "**Dataset Conversion for Transformers:**\n",
    "\n",
    "\n",
    "Transformed the BIO-tagged dataset into a format suitable for Hugging Face’s Transformers library.\n",
    "\n",
    "Used the prepare_ner_dataset_for_transformers function to:\n",
    "Tokenize the text.\n",
    "\n",
    "Align labels with tokenized words using the word_ids function (to handle subword tokenization by the BioBERT tokenizer).\n",
    "\n",
    "Add padding and truncation to ensure consistent input lengths."
   ]
  },
  {
   "cell_type": "code",
   "execution_count": 48,
   "id": "ba271586",
   "metadata": {},
   "outputs": [],
   "source": [
    "# Prepare data for BioBERT\n",
    "def prepare_ner_dataset_for_transformers(dataset, tokenizer, label_to_id, max_length=128):\n",
    "    \"\"\"\n",
    "    Converts NER dataset to a format suitable for transformer models.\n",
    "    Args:\n",
    "        dataset (list): List of token-label pairs.\n",
    "        tokenizer: Tokenizer from Hugging Face transformers.\n",
    "        label_to_id (dict): Mapping of labels to numeric IDs.\n",
    "        max_length (int): Max sequence length for tokenizer.\n",
    "    Returns:\n",
    "        Dataset: Hugging Face Dataset object for training.\n",
    "    \"\"\"\n",
    "    tokens = []\n",
    "    labels = []\n",
    "\n",
    "    for sample in dataset:\n",
    "        sample_tokens, sample_labels = zip(*sample[\"bio_tags\"])\n",
    "        tokens.append(sample_tokens)\n",
    "        labels.append([label_to_id[label] for label in sample_labels])\n",
    "\n",
    "    encodings = tokenizer(tokens, is_split_into_words=True, truncation=True, padding=True, max_length=max_length)\n",
    "\n",
    "    def align_labels_with_tokens(labels, encodings):\n",
    "        new_labels = []\n",
    "        for i, label in enumerate(labels):\n",
    "            word_ids = encodings.word_ids(batch_index=i)\n",
    "            new_labels.append([-100 if word_id is None else label[word_id] for word_id in word_ids])\n",
    "        return new_labels\n",
    "\n",
    "    encodings[\"labels\"] = align_labels_with_tokens(labels, encodings)\n",
    "    return Dataset.from_dict(encodings)"
   ]
  },
  {
   "cell_type": "markdown",
   "id": "814fced1",
   "metadata": {},
   "source": [
    "**Label Mapping:**\n",
    "\n",
    "\n",
    "Created a mapping from entity labels to IDs (label_to_id) and vice versa (id_to_label) for use in the model.\n",
    "This ensures compatibility between the dataset labels and the model’s expected output.\n",
    "Relation Extraction (RE) Data Preparation\n",
    "Entity Pair Contexts:\n",
    "\n",
    "\n",
    "Extracted sentence-level contexts for each pair of entities with their relation.\n",
    "Used [SEP] as a separator between the two entities in the context to ensure clarity.\n",
    "Example:\n",
    " For the relation (Aspirin, chem_disease:therapeutic, fever), the context was formatted as:\n",
    " \"Aspirin [SEP] fever\"\n",
    "\n",
    "\n",
    "Label Mapping:\n",
    "\n",
    "Created mappings for relation labels (e.g., chem_disease:therapeutic) to IDs (label_to_id) and the reverse (id_to_label).\n",
    "Converted all relation labels in the dataset to integers using label_to_id.\n",
    "Tokenization:\n"
   ]
  },
  {
   "cell_type": "code",
   "execution_count": 49,
   "id": "64eaaa51",
   "metadata": {},
   "outputs": [],
   "source": [
    "# Define label mappings\n",
    "unique_labels = list(set(tag for sample in bc5cdr_splits[\"train\"] for _, tag in sample[\"bio_tags\"]))\n",
    "label_to_id = {label: idx for idx, label in enumerate(unique_labels)}\n",
    "id_to_label = {idx: label for label, idx in label_to_id.items()}"
   ]
  },
  {
   "cell_type": "markdown",
   "id": "c331b15b",
   "metadata": {},
   "source": [
    "Tokenized the entity pair contexts using the BioBERT tokenizer.\n",
    "Included truncation, padding, and ensured consistency in sequence length."
   ]
  },
  {
   "cell_type": "code",
   "execution_count": 50,
   "id": "d47eb93f",
   "metadata": {},
   "outputs": [
    {
     "name": "stderr",
     "output_type": "stream",
     "text": [
      "Some weights of BertForTokenClassification were not initialized from the model checkpoint at dmis-lab/biobert-base-cased-v1.1 and are newly initialized: ['classifier.bias', 'classifier.weight']\n",
      "You should probably TRAIN this model on a down-stream task to be able to use it for predictions and inference.\n"
     ]
    }
   ],
   "source": [
    "# Load tokenizer and model\n",
    "tokenizer = AutoTokenizer.from_pretrained(\"dmis-lab/biobert-base-cased-v1.1\")\n",
    "model = AutoModelForTokenClassification.from_pretrained(\"dmis-lab/biobert-base-cased-v1.1\", num_labels=len(label_to_id))"
   ]
  },
  {
   "cell_type": "code",
   "execution_count": 51,
   "id": "9cffc2e4",
   "metadata": {},
   "outputs": [],
   "source": [
    "# Prepare datasets\n",
    "train_dataset = prepare_ner_dataset_for_transformers(bc5cdr_splits[\"train\"], tokenizer, label_to_id)\n",
    "test_dataset = prepare_ner_daataset_for_transformers(bc5cdr_splits[\"test\"], tokenizer, label_to_id)"
   ]
  },
  {
   "cell_type": "markdown",
   "id": "a7af35ae",
   "metadata": {},
   "source": [
    "**Training Configuration:**\n",
    "\n",
    "* Defined training arguments using TrainingArguments:\n",
    "* Batch size: 16\n",
    "* Learning rate: 1e-4 (adjusted for fine-tuning)\n",
    "* Number of epochs: 10\n",
    "* Warmup steps: 1000 (for gradual learning rate increase)\n",
    "* Used a DataCollatorForTokenClassification for padding and batching during training."
   ]
  },
  {
   "cell_type": "code",
   "execution_count": 52,
   "id": "5720913c",
   "metadata": {},
   "outputs": [
    {
     "name": "stderr",
     "output_type": "stream",
     "text": [
      "huggingface/tokenizers: The current process just got forked, after parallelism has already been used. Disabling parallelism to avoid deadlocks...\n",
      "To disable this warning, you can either:\n",
      "\t- Avoid using `tokenizers` before the fork if possible\n",
      "\t- Explicitly set the environment variable TOKENIZERS_PARALLELISM=(true | false)\n",
      "huggingface/tokenizers: The current process just got forked, after parallelism has already been used. Disabling parallelism to avoid deadlocks...\n",
      "To disable this warning, you can either:\n",
      "\t- Avoid using `tokenizers` before the fork if possible\n",
      "\t- Explicitly set the environment variable TOKENIZERS_PARALLELISM=(true | false)\n"
     ]
    }
   ],
   "source": [
    "from transformers import Trainer, TrainingArguments, DataCollatorForTokenClassification\n",
    "\n",
    "# Define data collator and training arguments\n",
    "data_collator = DataCollatorForTokenClassification(tokenizer)\n",
    "\n",
    "\n",
    "training_args = TrainingArguments(\n",
    "    output_dir=\"./results\",\n",
    "    eval_strategy=\"epoch\",  # Evaluate after every epoch\n",
    "    save_strategy=\"epoch\",  # Save after every epoch\n",
    "    logging_dir=\"./logs\",  # Save logs here\n",
    "    learning_rate=1e-4,  # Lower learning rate\n",
    "    per_device_train_batch_size=16,  # You can try increasing this if you have more memory\n",
    "    per_device_eval_batch_size=16,  # Same as training batch size\n",
    "    num_train_epochs=10,  # Reduce the number of epochs for quicker experimentation\n",
    "    weight_decay=0.02,  # Regularization to prevent overfitting\n",
    "    warmup_steps=1000,  # Gradual learning rate warmup\n",
    "    max_grad_norm=2.0,  # Prevent exploding gradients\n",
    "    save_total_limit=2,  # Only keep 2 checkpoint files\n",
    "    load_best_model_at_end=True,  # Ensure the best model is loaded\n",
    "    metric_for_best_model=\"eval_loss\",  # Track loss for best model\n",
    "    greater_is_better=False,  # Lower loss is better\n",
    "    logging_steps=10,  # Frequency of logging\n",
    "    disable_tqdm=False,  # Set to False to see progress\n",
    "    lr_scheduler_type=\"linear\",  # Learning rate scheduler\n",
    ")"
   ]
  },
  {
   "cell_type": "code",
   "execution_count": 53,
   "id": "7771f35c",
   "metadata": {},
   "outputs": [
    {
     "name": "stderr",
     "output_type": "stream",
     "text": [
      "/scratch/local/ipykernel_11048/633751434.py:2: FutureWarning: `tokenizer` is deprecated and will be removed in version 5.0.0 for `Trainer.__init__`. Use `processing_class` instead.\n",
      "  trainer = Trainer(\n",
      "Detected kernel version 3.10.0, which is below the recommended minimum of 5.5.0; this can cause the process to hang. It is recommended to upgrade the kernel to the minimum version or higher.\n"
     ]
    }
   ],
   "source": [
    "# Train the model\n",
    "trainer = Trainer(\n",
    "    model=model,\n",
    "    args=training_args,\n",
    "    train_dataset=train_dataset,\n",
    "    eval_dataset=test_dataset,\n",
    "    tokenizer=tokenizer,\n",
    "    data_collator=data_collator,\n",
    ")"
   ]
  },
  {
   "cell_type": "code",
   "execution_count": 54,
   "id": "e2d8ae57",
   "metadata": {
    "scrolled": true
   },
   "outputs": [
    {
     "name": "stderr",
     "output_type": "stream",
     "text": [
      "/home/pperla/.conda/envs/nlp_assignment/lib/python3.12/site-packages/torch/nn/parallel/_functions.py:71: UserWarning: Was asked to gather along dimension 0, but all input tensors were scalars; will instead unsqueeze and return a vector.\n",
      "  warnings.warn(\n"
     ]
    },
    {
     "data": {
      "text/html": [
       "\n",
       "    <div>\n",
       "      \n",
       "      <progress value='80' max='80' style='width:300px; height:20px; vertical-align: middle;'></progress>\n",
       "      [80/80 00:39, Epoch 10/10]\n",
       "    </div>\n",
       "    <table border=\"1\" class=\"dataframe\">\n",
       "  <thead>\n",
       " <tr style=\"text-align: left;\">\n",
       "      <th>Epoch</th>\n",
       "      <th>Training Loss</th>\n",
       "      <th>Validation Loss</th>\n",
       "    </tr>\n",
       "  </thead>\n",
       "  <tbody>\n",
       "    <tr>\n",
       "      <td>1</td>\n",
       "      <td>No log</td>\n",
       "      <td>1.612075</td>\n",
       "    </tr>\n",
       "    <tr>\n",
       "      <td>2</td>\n",
       "      <td>1.635500</td>\n",
       "      <td>1.549659</td>\n",
       "    </tr>\n",
       "    <tr>\n",
       "      <td>3</td>\n",
       "      <td>1.575500</td>\n",
       "      <td>1.447037</td>\n",
       "    </tr>\n",
       "    <tr>\n",
       "      <td>4</td>\n",
       "      <td>1.446600</td>\n",
       "      <td>1.308743</td>\n",
       "    </tr>\n",
       "    <tr>\n",
       "      <td>5</td>\n",
       "      <td>1.266700</td>\n",
       "      <td>1.138722</td>\n",
       "    </tr>\n",
       "    <tr>\n",
       "      <td>6</td>\n",
       "      <td>1.266700</td>\n",
       "      <td>0.952709</td>\n",
       "    </tr>\n",
       "    <tr>\n",
       "      <td>7</td>\n",
       "      <td>1.041000</td>\n",
       "      <td>0.803235</td>\n",
       "    </tr>\n",
       "    <tr>\n",
       "      <td>8</td>\n",
       "      <td>0.831100</td>\n",
       "      <td>0.678273</td>\n",
       "    </tr>\n",
       "    <tr>\n",
       "      <td>9</td>\n",
       "      <td>0.686300</td>\n",
       "      <td>0.570538</td>\n",
       "    </tr>\n",
       "    <tr>\n",
       "      <td>10</td>\n",
       "      <td>0.525100</td>\n",
       "      <td>0.473044</td>\n",
       "    </tr>\n",
       "  </tbody>\n",
       "</table><p>"
      ],
      "text/plain": [
       "<IPython.core.display.HTML object>"
      ]
     },
     "metadata": {},
     "output_type": "display_data"
    },
    {
     "name": "stderr",
     "output_type": "stream",
     "text": [
      "/home/pperla/.conda/envs/nlp_assignment/lib/python3.12/site-packages/torch/nn/parallel/_functions.py:71: UserWarning: Was asked to gather along dimension 0, but all input tensors were scalars; will instead unsqueeze and return a vector.\n",
      "  warnings.warn(\n",
      "/home/pperla/.conda/envs/nlp_assignment/lib/python3.12/site-packages/torch/nn/parallel/_functions.py:71: UserWarning: Was asked to gather along dimension 0, but all input tensors were scalars; will instead unsqueeze and return a vector.\n",
      "  warnings.warn(\n",
      "/home/pperla/.conda/envs/nlp_assignment/lib/python3.12/site-packages/torch/nn/parallel/_functions.py:71: UserWarning: Was asked to gather along dimension 0, but all input tensors were scalars; will instead unsqueeze and return a vector.\n",
      "  warnings.warn(\n",
      "/home/pperla/.conda/envs/nlp_assignment/lib/python3.12/site-packages/torch/nn/parallel/_functions.py:71: UserWarning: Was asked to gather along dimension 0, but all input tensors were scalars; will instead unsqueeze and return a vector.\n",
      "  warnings.warn(\n",
      "/home/pperla/.conda/envs/nlp_assignment/lib/python3.12/site-packages/torch/nn/parallel/_functions.py:71: UserWarning: Was asked to gather along dimension 0, but all input tensors were scalars; will instead unsqueeze and return a vector.\n",
      "  warnings.warn(\n",
      "/home/pperla/.conda/envs/nlp_assignment/lib/python3.12/site-packages/torch/nn/parallel/_functions.py:71: UserWarning: Was asked to gather along dimension 0, but all input tensors were scalars; will instead unsqueeze and return a vector.\n",
      "  warnings.warn(\n",
      "/home/pperla/.conda/envs/nlp_assignment/lib/python3.12/site-packages/torch/nn/parallel/_functions.py:71: UserWarning: Was asked to gather along dimension 0, but all input tensors were scalars; will instead unsqueeze and return a vector.\n",
      "  warnings.warn(\n",
      "/home/pperla/.conda/envs/nlp_assignment/lib/python3.12/site-packages/torch/nn/parallel/_functions.py:71: UserWarning: Was asked to gather along dimension 0, but all input tensors were scalars; will instead unsqueeze and return a vector.\n",
      "  warnings.warn(\n",
      "/home/pperla/.conda/envs/nlp_assignment/lib/python3.12/site-packages/torch/nn/parallel/_functions.py:71: UserWarning: Was asked to gather along dimension 0, but all input tensors were scalars; will instead unsqueeze and return a vector.\n",
      "  warnings.warn(\n",
      "/home/pperla/.conda/envs/nlp_assignment/lib/python3.12/site-packages/torch/nn/parallel/_functions.py:71: UserWarning: Was asked to gather along dimension 0, but all input tensors were scalars; will instead unsqueeze and return a vector.\n",
      "  warnings.warn(\n"
     ]
    },
    {
     "data": {
      "text/plain": [
       "TrainOutput(global_step=80, training_loss=1.1259742021560668, metrics={'train_runtime': 43.9315, 'train_samples_per_second': 79.67, 'train_steps_per_second': 1.821, 'total_flos': 228640863360000.0, 'train_loss': 1.1259742021560668, 'epoch': 10.0})"
      ]
     },
     "execution_count": 54,
     "metadata": {},
     "output_type": "execute_result"
    }
   ],
   "source": [
    "trainer.train()"
   ]
  },
  {
   "cell_type": "code",
   "execution_count": 55,
   "id": "169f9ce0",
   "metadata": {},
   "outputs": [
    {
     "name": "stderr",
     "output_type": "stream",
     "text": [
      "/home/pperla/.conda/envs/nlp_assignment/lib/python3.12/site-packages/torch/nn/parallel/_functions.py:71: UserWarning: Was asked to gather along dimension 0, but all input tensors were scalars; will instead unsqueeze and return a vector.\n",
      "  warnings.warn(\n"
     ]
    },
    {
     "data": {
      "text/html": [],
      "text/plain": [
       "<IPython.core.display.HTML object>"
      ]
     },
     "metadata": {},
     "output_type": "display_data"
    },
    {
     "name": "stdout",
     "output_type": "stream",
     "text": [
      "NER Evaluation Results: {'eval_loss': 0.473043829202652, 'eval_runtime': 0.2045, 'eval_samples_per_second': 366.773, 'eval_steps_per_second': 9.781, 'epoch': 10.0}\n"
     ]
    }
   ],
   "source": [
    "# Evaluate the model\n",
    "eval_results = trainer.evaluate()\n",
    "print(\"NER Evaluation Results:\", eval_results)"
   ]
  },
  {
   "cell_type": "code",
   "execution_count": 56,
   "id": "1cf3695d",
   "metadata": {},
   "outputs": [],
   "source": [
    "# Evaluate predictions\n",
    "predictions, labels, _ = trainer.predict(test_dataset)\n",
    "predicted_labels = predictions.argmax(axis=-1)\n",
    "\n",
    "# Convert IDs back to tags\n",
    "def decode_predictions(predictions, labels, id_to_label):\n",
    "    \"\"\"\n",
    "    Decodes predictions and labels, aligning them by word indices.\n",
    "    Args:\n",
    "        predictions (array): Predicted label IDs.\n",
    "        labels (array): True label IDs.\n",
    "        id_to_label (dict): Mapping of label IDs to label names.\n",
    "    Returns:\n",
    "        list, list: Decoded predictions and labels.\n",
    "    \"\"\"\n",
    "    decoded_preds, decoded_labels = [], []\n",
    "    for pred, label in zip(predictions, labels):\n",
    "        # Ignore padding tokens (-100 in Hugging Face datasets)\n",
    "        aligned_preds = [\n",
    "            id_to_label[p] for p, l in zip(pred, label) if l != -100\n",
    "        ]\n",
    "        aligned_labels = [\n",
    "            id_to_label[l] for p, l in zip(pred, label) if l != -100\n",
    "        ]\n",
    "        decoded_preds.append(aligned_preds)\n",
    "        decoded_labels.append(aligned_labels)\n",
    "    return decoded_preds, decoded_labels\n",
    "\n",
    "\n",
    "decoded_preds, decoded_labels = decode_predictions(predicted_labels, test_dataset[\"labels\"], id_to_label)"
   ]
  },
  {
   "cell_type": "code",
   "execution_count": 57,
   "id": "e3cab452",
   "metadata": {},
   "outputs": [],
   "source": [
    "# Flatten the lists for classification report\n",
    "flat_preds = [pred for sample in decoded_preds for pred in sample]\n",
    "flat_labels = [label for sample in decoded_labels for label in sample]"
   ]
  },
  {
   "cell_type": "code",
   "execution_count": 58,
   "id": "264f0ddc",
   "metadata": {},
   "outputs": [
    {
     "name": "stdout",
     "output_type": "stream",
     "text": [
      "              precision    recall  f1-score   support\n",
      "\n",
      "   I-Disease       0.50      0.00      0.01       362\n",
      "  I-Chemical       0.00      0.00      0.00       206\n",
      "   B-Disease       0.60      0.64      0.62       801\n",
      "  B-Chemical       0.70      0.87      0.78      1153\n",
      "           O       0.91      0.94      0.92      6873\n",
      "\n",
      "    accuracy                           0.85      9395\n",
      "   macro avg       0.54      0.49      0.46      9395\n",
      "weighted avg       0.82      0.85      0.82      9395\n",
      "\n"
     ]
    }
   ],
   "source": [
    "# Compute and print classification report\n",
    "report = classification_report(\n",
    "    flat_labels,\n",
    "    flat_preds,\n",
    "    labels=list(id_to_label.values()),\n",
    "    zero_division=0\n",
    ")\n",
    "print(report)"
   ]
  },
  {
   "cell_type": "markdown",
   "id": "b5429463",
   "metadata": {},
   "source": [
    "**Evaluation:**\n",
    "\n",
    "Evaluated the trained model on the test set using the classification report for BIO-tagging.\n",
    "\n",
    "**Results:**\n",
    "\n",
    "Precision, Recall, and F1-score were reported for each entity type.\n",
    "\n",
    "Observed good performance for B-Chemical and B-Disease."
   ]
  },
  {
   "cell_type": "markdown",
   "id": "b1ef95b9",
   "metadata": {},
   "source": [
    "## Model Fine-Tuning BERT"
   ]
  },
  {
   "cell_type": "markdown",
   "id": "b4bb221e",
   "metadata": {},
   "source": [
    "### **NER Model Fine-Tuning**\n",
    "\n",
    "**Model Architecture:**\n",
    "\n",
    "Used AutoModelForTokenClassification from Hugging Face, which appends a classification head to BioBERT for token classification tasks.\n",
    "\n",
    "Configured the model with the number of unique NER labels."
   ]
  },
  {
   "cell_type": "code",
   "execution_count": 59,
   "id": "66b40e94",
   "metadata": {
    "scrolled": true
   },
   "outputs": [
    {
     "name": "stderr",
     "output_type": "stream",
     "text": [
      "huggingface/tokenizers: The current process just got forked, after parallelism has already been used. Disabling parallelism to avoid deadlocks...\n",
      "To disable this warning, you can either:\n",
      "\t- Avoid using `tokenizers` before the fork if possible\n",
      "\t- Explicitly set the environment variable TOKENIZERS_PARALLELISM=(true | false)\n",
      "Some weights of BertForTokenClassification were not initialized from the model checkpoint at dmis-lab/biobert-base-cased-v1.1 and are newly initialized: ['classifier.bias', 'classifier.weight']\n",
      "You should probably TRAIN this model on a down-stream task to be able to use it for predictions and inference.\n"
     ]
    }
   ],
   "source": [
    "#Fine-Tuning BioBERT for NER\n",
    "\n",
    "tokenizer = AutoTokenizer.from_pretrained(\"dmis-lab/biobert-base-cased-v1.1\") # Load BioBERT tokenizer and model for NER\n",
    "model_ner = AutoModelForTokenClassification.from_pretrained(\n",
    "    \"dmis-lab/biobert-base-cased-v1.1\",\n",
    "    num_labels=len(label_to_id),\n",
    "    ignore_mismatched_sizes=True  # Handles classifier weight mismatch\n",
    ")\n"
   ]
  },
  {
   "cell_type": "code",
   "execution_count": 60,
   "id": "a7793616",
   "metadata": {
    "scrolled": true
   },
   "outputs": [
    {
     "name": "stdout",
     "output_type": "stream",
     "text": [
      "BertConfig {\n",
      "  \"_attn_implementation_autoset\": true,\n",
      "  \"_name_or_path\": \"dmis-lab/biobert-base-cased-v1.1\",\n",
      "  \"attention_probs_dropout_prob\": 0.1,\n",
      "  \"classifier_dropout\": null,\n",
      "  \"hidden_act\": \"gelu\",\n",
      "  \"hidden_dropout_prob\": 0.1,\n",
      "  \"hidden_size\": 768,\n",
      "  \"id2label\": {\n",
      "    \"0\": \"LABEL_0\",\n",
      "    \"1\": \"LABEL_1\",\n",
      "    \"2\": \"LABEL_2\",\n",
      "    \"3\": \"LABEL_3\",\n",
      "    \"4\": \"LABEL_4\"\n",
      "  },\n",
      "  \"initializer_range\": 0.02,\n",
      "  \"intermediate_size\": 3072,\n",
      "  \"label2id\": {\n",
      "    \"LABEL_0\": 0,\n",
      "    \"LABEL_1\": 1,\n",
      "    \"LABEL_2\": 2,\n",
      "    \"LABEL_3\": 3,\n",
      "    \"LABEL_4\": 4\n",
      "  },\n",
      "  \"layer_norm_eps\": 1e-12,\n",
      "  \"max_position_embeddings\": 512,\n",
      "  \"model_type\": \"bert\",\n",
      "  \"num_attention_heads\": 12,\n",
      "  \"num_hidden_layers\": 12,\n",
      "  \"pad_token_id\": 0,\n",
      "  \"position_embedding_type\": \"absolute\",\n",
      "  \"transformers_version\": \"4.47.0.dev0\",\n",
      "  \"type_vocab_size\": 2,\n",
      "  \"use_cache\": true,\n",
      "  \"vocab_size\": 28996\n",
      "}\n",
      "\n"
     ]
    }
   ],
   "source": [
    "print(model_ner.config)"
   ]
  },
  {
   "cell_type": "code",
   "execution_count": 61,
   "id": "65404f7a",
   "metadata": {},
   "outputs": [],
   "source": [
    "# Prepare NER dataset\n",
    "train_dataset = prepare_ner_dataset_for_transformers(bc5cdr_splits[\"train\"], tokenizer, label_to_id)\n",
    "test_dataset = prepare_ner_dataset_for_transformers(bc5cdr_splits[\"test\"], tokenizer, label_to_id)"
   ]
  },
  {
   "cell_type": "markdown",
   "id": "d70bb9c7",
   "metadata": {},
   "source": [
    "**Training Configuration:**\n",
    "\n",
    "* Defined training arguments using TrainingArguments:\n",
    "* Batch size: 8\n",
    "* Learning rate: 2e-5 (adjusted for fine-tuning)\n",
    "* Number of epochs: 3\n",
    "* Saved the best model based on validation loss.\n",
    "* Used a DataCollatorForTokenClassification for padding and batching during training."
   ]
  },
  {
   "cell_type": "code",
   "execution_count": 62,
   "id": "96a4d8a8",
   "metadata": {},
   "outputs": [
    {
     "name": "stderr",
     "output_type": "stream",
     "text": [
      "/home/pperla/.conda/envs/nlp_assignment/lib/python3.12/site-packages/transformers/training_args.py:1575: FutureWarning: `evaluation_strategy` is deprecated and will be removed in version 4.46 of 🤗 Transformers. Use `eval_strategy` instead\n",
      "  warnings.warn(\n"
     ]
    }
   ],
   "source": [
    "# Define training arguments\n",
    "training_args_ner = TrainingArguments(\n",
    "    output_dir=\"./results_ner\",\n",
    "    evaluation_strategy=\"epoch\",\n",
    "    save_strategy=\"epoch\",\n",
    "    learning_rate=2e-5,\n",
    "    per_device_train_batch_size=8,\n",
    "    per_device_eval_batch_size=8,\n",
    "    num_train_epochs=3,\n",
    "    weight_decay=0.01,\n",
    "    logging_dir=\"./logs_ner\",\n",
    "    load_best_model_at_end=True,\n",
    "    save_total_limit=2,\n",
    ")"
   ]
  },
  {
   "cell_type": "code",
   "execution_count": 63,
   "id": "e5ac614a",
   "metadata": {},
   "outputs": [],
   "source": [
    "# Create Trainer for NER\n",
    "data_collator_ner = DataCollatorForTokenClassification(tokenizer)"
   ]
  },
  {
   "cell_type": "markdown",
   "id": "48b3be88",
   "metadata": {},
   "source": [
    "**Training:**\n",
    "\n",
    "Fine-tuned BioBERT on the NER training dataset using the Hugging Face Trainer API.\n",
    "\n",
    "Validated the model after every epoch."
   ]
  },
  {
   "cell_type": "code",
   "execution_count": 64,
   "id": "0782ba22",
   "metadata": {
    "scrolled": true
   },
   "outputs": [
    {
     "name": "stderr",
     "output_type": "stream",
     "text": [
      "/scratch/local/ipykernel_11048/3597033262.py:1: FutureWarning: `tokenizer` is deprecated and will be removed in version 5.0.0 for `Trainer.__init__`. Use `processing_class` instead.\n",
      "  trainer_ner = Trainer(\n",
      "Detected kernel version 3.10.0, which is below the recommended minimum of 5.5.0; this can cause the process to hang. It is recommended to upgrade the kernel to the minimum version or higher.\n"
     ]
    }
   ],
   "source": [
    "trainer_ner = Trainer(\n",
    "    model=model_ner,\n",
    "    args=training_args_ner,\n",
    "    train_dataset=train_dataset,\n",
    "    eval_dataset=test_dataset,\n",
    "    tokenizer=tokenizer,\n",
    "    data_collator=data_collator_ner,\n",
    ")"
   ]
  },
  {
   "cell_type": "code",
   "execution_count": 65,
   "id": "da242e3f",
   "metadata": {},
   "outputs": [
    {
     "name": "stderr",
     "output_type": "stream",
     "text": [
      "/home/pperla/.conda/envs/nlp_assignment/lib/python3.12/site-packages/torch/nn/parallel/_functions.py:71: UserWarning: Was asked to gather along dimension 0, but all input tensors were scalars; will instead unsqueeze and return a vector.\n",
      "  warnings.warn(\n"
     ]
    },
    {
     "data": {
      "text/html": [
       "\n",
       "    <div>\n",
       "      \n",
       "      <progress value='45' max='45' style='width:300px; height:20px; vertical-align: middle;'></progress>\n",
       "      [45/45 00:16, Epoch 3/3]\n",
       "    </div>\n",
       "    <table border=\"1\" class=\"dataframe\">\n",
       "  <thead>\n",
       " <tr style=\"text-align: left;\">\n",
       "      <th>Epoch</th>\n",
       "      <th>Training Loss</th>\n",
       "      <th>Validation Loss</th>\n",
       "    </tr>\n",
       "  </thead>\n",
       "  <tbody>\n",
       "    <tr>\n",
       "      <td>1</td>\n",
       "      <td>No log</td>\n",
       "      <td>0.669114</td>\n",
       "    </tr>\n",
       "    <tr>\n",
       "      <td>2</td>\n",
       "      <td>No log</td>\n",
       "      <td>0.486232</td>\n",
       "    </tr>\n",
       "    <tr>\n",
       "      <td>3</td>\n",
       "      <td>No log</td>\n",
       "      <td>0.445746</td>\n",
       "    </tr>\n",
       "  </tbody>\n",
       "</table><p>"
      ],
      "text/plain": [
       "<IPython.core.display.HTML object>"
      ]
     },
     "metadata": {},
     "output_type": "display_data"
    },
    {
     "name": "stderr",
     "output_type": "stream",
     "text": [
      "/home/pperla/.conda/envs/nlp_assignment/lib/python3.12/site-packages/torch/nn/parallel/_functions.py:71: UserWarning: Was asked to gather along dimension 0, but all input tensors were scalars; will instead unsqueeze and return a vector.\n",
      "  warnings.warn(\n",
      "/home/pperla/.conda/envs/nlp_assignment/lib/python3.12/site-packages/torch/nn/parallel/_functions.py:71: UserWarning: Was asked to gather along dimension 0, but all input tensors were scalars; will instead unsqueeze and return a vector.\n",
      "  warnings.warn(\n",
      "/home/pperla/.conda/envs/nlp_assignment/lib/python3.12/site-packages/torch/nn/parallel/_functions.py:71: UserWarning: Was asked to gather along dimension 0, but all input tensors were scalars; will instead unsqueeze and return a vector.\n",
      "  warnings.warn(\n"
     ]
    },
    {
     "data": {
      "text/plain": [
       "TrainOutput(global_step=45, training_loss=0.6643778059217665, metrics={'train_runtime': 16.5669, 'train_samples_per_second': 63.379, 'train_steps_per_second': 2.716, 'total_flos': 68592259008000.0, 'train_loss': 0.6643778059217665, 'epoch': 3.0})"
      ]
     },
     "execution_count": 65,
     "metadata": {},
     "output_type": "execute_result"
    }
   ],
   "source": [
    "# Train and evaluate the model\n",
    "trainer_ner.train()"
   ]
  },
  {
   "cell_type": "markdown",
   "id": "6ac20717",
   "metadata": {},
   "source": []
  },
  {
   "cell_type": "code",
   "execution_count": 66,
   "id": "db05c53f",
   "metadata": {},
   "outputs": [
    {
     "name": "stderr",
     "output_type": "stream",
     "text": [
      "/home/pperla/.conda/envs/nlp_assignment/lib/python3.12/site-packages/torch/nn/parallel/_functions.py:71: UserWarning: Was asked to gather along dimension 0, but all input tensors were scalars; will instead unsqueeze and return a vector.\n",
      "  warnings.warn(\n"
     ]
    },
    {
     "data": {
      "text/html": [
       "\n",
       "    <div>\n",
       "      \n",
       "      <progress value='4' max='4' style='width:300px; height:20px; vertical-align: middle;'></progress>\n",
       "      [4/4 00:00]\n",
       "    </div>\n",
       "    "
      ],
      "text/plain": [
       "<IPython.core.display.HTML object>"
      ]
     },
     "metadata": {},
     "output_type": "display_data"
    },
    {
     "data": {
      "text/plain": [
       "{'eval_loss': 0.44574615359306335,\n",
       " 'eval_runtime': 0.3279,\n",
       " 'eval_samples_per_second': 228.713,\n",
       " 'eval_steps_per_second': 12.198,\n",
       " 'epoch': 3.0}"
      ]
     },
     "execution_count": 66,
     "metadata": {},
     "output_type": "execute_result"
    }
   ],
   "source": [
    "trainer_ner.evaluate()"
   ]
  },
  {
   "cell_type": "markdown",
   "id": "945da657",
   "metadata": {},
   "source": [
    "### **Relation Extraction (RE) Model Fine-Tuning**"
   ]
  },
  {
   "cell_type": "code",
   "execution_count": 67,
   "id": "c2897d9b",
   "metadata": {},
   "outputs": [],
   "source": [
    "# Step 1: Prepare Relation Extraction Dataset\n",
    "def prepare_relation_data(dataset):\n",
    "    \"\"\"\n",
    "    Extracts contexts and labels for relation extraction.\n",
    "    Args:\n",
    "        dataset (list): Dataset containing relation tuples.\n",
    "    Returns:\n",
    "        list, list: Contexts (sentences) and labels (relation types).\n",
    "    \"\"\"\n",
    "    contexts = []\n",
    "    labels = []\n",
    "    for sample in dataset:\n",
    "        for relation in sample[\"relation_tuples\"]:\n",
    "            entity1, relation_type, entity2 = relation\n",
    "            context = f\"{entity1} [SEP] {entity2}\"  # Use [SEP] for clear distinction\n",
    "            contexts.append(context)\n",
    "            labels.append(relation_type)\n",
    "    return contexts, labels"
   ]
  },
  {
   "cell_type": "code",
   "execution_count": 68,
   "id": "06ababeb",
   "metadata": {},
   "outputs": [],
   "source": [
    "# Prepare training and testing data\n",
    "train_contexts, train_labels = prepare_relation_data(chem_dis_gene_splits[\"train\"])\n",
    "test_contexts, test_labels = prepare_relation_data(chem_dis_gene_splits[\"test\"])\n",
    "\n",
    "# Step 2: Map Relation Labels to Integers\n",
    "# Create label-to-id and id-to-label mappings\n",
    "unique_labels = list(set(train_labels))\n",
    "label_to_id = {label: idx for idx, label in enumerate(unique_labels)}\n",
    "id_to_label = {idx: label for label, idx in label_to_id.items()}\n",
    "\n",
    "# Convert labels to integer IDs\n",
    "train_labels = [label_to_id[label] for label in train_labels]\n",
    "test_labels = [label_to_id[label] for label in test_labels]"
   ]
  },
  {
   "cell_type": "code",
   "execution_count": 69,
   "id": "42dca7d9",
   "metadata": {},
   "outputs": [],
   "source": [
    "# Step 3: Tokenize Relation Data\n",
    "def tokenize_relation_data(contexts, labels, tokenizer, max_length=128):\n",
    "    \"\"\"\n",
    "    Tokenizes contexts and attaches integer labels for sequence classification.\n",
    "    Args:\n",
    "        contexts (list): List of sentences (contexts).\n",
    "        labels (list): Corresponding integer relation labels.\n",
    "        tokenizer: Pretrained tokenizer.\n",
    "        max_length (int): Maximum sequence length.\n",
    "    Returns:\n",
    "        Dataset: Hugging Face Dataset object with tokenized inputs.\n",
    "    \"\"\"\n",
    "    encodings = tokenizer(contexts, truncation=True, padding=True, max_length=max_length)\n",
    "    return Dataset.from_dict({\"input_ids\": encodings[\"input_ids\"], \n",
    "                              \"attention_mask\": encodings[\"attention_mask\"], \n",
    "                              \"labels\": labels})"
   ]
  },
  {
   "cell_type": "markdown",
   "id": "bee82d6f",
   "metadata": {},
   "source": [
    "**Model Architecture:**\n",
    "\n",
    "Used AutoModelForSequenceClassification for relation classification:\n",
    "BioBERT encoder.\n",
    "\n",
    "Classification head for relation prediction.\n",
    "\n",
    "Configured with the number of unique relation types."
   ]
  },
  {
   "cell_type": "code",
   "execution_count": 70,
   "id": "3daf5b29",
   "metadata": {},
   "outputs": [
    {
     "name": "stderr",
     "output_type": "stream",
     "text": [
      "huggingface/tokenizers: The current process just got forked, after parallelism has already been used. Disabling parallelism to avoid deadlocks...\n",
      "To disable this warning, you can either:\n",
      "\t- Avoid using `tokenizers` before the fork if possible\n",
      "\t- Explicitly set the environment variable TOKENIZERS_PARALLELISM=(true | false)\n",
      "Some weights of BertForSequenceClassification were not initialized from the model checkpoint at dmis-lab/biobert-base-cased-v1.1 and are newly initialized: ['classifier.bias', 'classifier.weight']\n",
      "You should probably TRAIN this model on a down-stream task to be able to use it for predictions and inference.\n"
     ]
    }
   ],
   "source": [
    "# Load BioBERT tokenizer\n",
    "tokenizer = AutoTokenizer.from_pretrained(\"dmis-lab/biobert-base-cased-v1.1\")\n",
    "\n",
    "# Tokenize training and testing data\n",
    "train_data_re = tokenize_relation_data(train_contexts, train_labels, tokenizer)\n",
    "test_data_re = tokenize_relation_data(test_contexts, test_labels, tokenizer)\n",
    "\n",
    "# Step 4: Fine-Tune BioBERT\n",
    "# Load BioBERT model for sequence classification\n",
    "model_re = AutoModelForSequenceClassification.from_pretrained(\n",
    "    \"dmis-lab/biobert-base-cased-v1.1\", num_labels=len(label_to_id))"
   ]
  },
  {
   "cell_type": "markdown",
   "id": "6b6c6dc9",
   "metadata": {},
   "source": [
    "**Training Configuration:**\n",
    "\n",
    "* Similar to the NER setup, but adjusted for sequence classification:\n",
    "* Batch size: 16\n",
    "* Learning rate: 1e-5\n",
    "* Number of epochs: 3\n",
    "* Saved the best model based on validation loss."
   ]
  },
  {
   "cell_type": "code",
   "execution_count": 71,
   "id": "cefcec3e",
   "metadata": {},
   "outputs": [
    {
     "name": "stderr",
     "output_type": "stream",
     "text": [
      "/home/pperla/.conda/envs/nlp_assignment/lib/python3.12/site-packages/transformers/training_args.py:1575: FutureWarning: `evaluation_strategy` is deprecated and will be removed in version 4.46 of 🤗 Transformers. Use `eval_strategy` instead\n",
      "  warnings.warn(\n"
     ]
    }
   ],
   "source": [
    "# Define training arguments\n",
    "training_args_re = TrainingArguments(\n",
    "    output_dir=\"./results_re\",\n",
    "    evaluation_strategy=\"epoch\",\n",
    "    save_strategy=\"epoch\",\n",
    "    learning_rate=1e-5,\n",
    "    per_device_train_batch_size=16,\n",
    "    per_device_eval_batch_size=16,\n",
    "    num_train_epochs=3,\n",
    "    weight_decay=0.01,\n",
    "    logging_dir=\"./logs_re\",\n",
    "    load_best_model_at_end=True,\n",
    "    save_total_limit=2)"
   ]
  },
  {
   "cell_type": "markdown",
   "id": "4ad51973",
   "metadata": {},
   "source": [
    "**Training:**\n",
    "\n",
    "Fine-tuned BioBERT for RE using the tokenized entity pair contexts and relation labels.\n",
    "\n",
    "Validated after every epoch to monitor performance."
   ]
  },
  {
   "cell_type": "code",
   "execution_count": 72,
   "id": "7abb17fb",
   "metadata": {
    "scrolled": true
   },
   "outputs": [
    {
     "name": "stderr",
     "output_type": "stream",
     "text": [
      "/scratch/local/ipykernel_11048/109929619.py:2: FutureWarning: `tokenizer` is deprecated and will be removed in version 5.0.0 for `Trainer.__init__`. Use `processing_class` instead.\n",
      "  trainer_re = Trainer(\n",
      "Detected kernel version 3.10.0, which is below the recommended minimum of 5.5.0; this can cause the process to hang. It is recommended to upgrade the kernel to the minimum version or higher.\n",
      "/home/pperla/.conda/envs/nlp_assignment/lib/python3.12/site-packages/torch/nn/parallel/_functions.py:71: UserWarning: Was asked to gather along dimension 0, but all input tensors were scalars; will instead unsqueeze and return a vector.\n",
      "  warnings.warn(\n"
     ]
    },
    {
     "data": {
      "text/html": [
       "\n",
       "    <div>\n",
       "      \n",
       "      <progress value='2397' max='2397' style='width:300px; height:20px; vertical-align: middle;'></progress>\n",
       "      [2397/2397 10:59, Epoch 3/3]\n",
       "    </div>\n",
       "    <table border=\"1\" class=\"dataframe\">\n",
       "  <thead>\n",
       " <tr style=\"text-align: left;\">\n",
       "      <th>Epoch</th>\n",
       "      <th>Training Loss</th>\n",
       "      <th>Validation Loss</th>\n",
       "    </tr>\n",
       "  </thead>\n",
       "  <tbody>\n",
       "    <tr>\n",
       "      <td>1</td>\n",
       "      <td>1.668200</td>\n",
       "      <td>2.271186</td>\n",
       "    </tr>\n",
       "    <tr>\n",
       "      <td>2</td>\n",
       "      <td>0.691800</td>\n",
       "      <td>2.515334</td>\n",
       "    </tr>\n",
       "    <tr>\n",
       "      <td>3</td>\n",
       "      <td>0.588300</td>\n",
       "      <td>2.663029</td>\n",
       "    </tr>\n",
       "  </tbody>\n",
       "</table><p>"
      ],
      "text/plain": [
       "<IPython.core.display.HTML object>"
      ]
     },
     "metadata": {},
     "output_type": "display_data"
    },
    {
     "name": "stderr",
     "output_type": "stream",
     "text": [
      "/home/pperla/.conda/envs/nlp_assignment/lib/python3.12/site-packages/torch/nn/parallel/_functions.py:71: UserWarning: Was asked to gather along dimension 0, but all input tensors were scalars; will instead unsqueeze and return a vector.\n",
      "  warnings.warn(\n",
      "/home/pperla/.conda/envs/nlp_assignment/lib/python3.12/site-packages/torch/nn/parallel/_functions.py:71: UserWarning: Was asked to gather along dimension 0, but all input tensors were scalars; will instead unsqueeze and return a vector.\n",
      "  warnings.warn(\n",
      "/home/pperla/.conda/envs/nlp_assignment/lib/python3.12/site-packages/torch/nn/parallel/_functions.py:71: UserWarning: Was asked to gather along dimension 0, but all input tensors were scalars; will instead unsqueeze and return a vector.\n",
      "  warnings.warn(\n",
      "/home/pperla/.conda/envs/nlp_assignment/lib/python3.12/site-packages/torch/nn/parallel/_functions.py:71: UserWarning: Was asked to gather along dimension 0, but all input tensors were scalars; will instead unsqueeze and return a vector.\n",
      "  warnings.warn(\n"
     ]
    },
    {
     "data": {
      "text/html": [],
      "text/plain": [
       "<IPython.core.display.HTML object>"
      ]
     },
     "metadata": {},
     "output_type": "display_data"
    }
   ],
   "source": [
    "# Create Trainer\n",
    "trainer_re = Trainer(\n",
    "    model=model_re,\n",
    "    args=training_args_re,\n",
    "    train_dataset=train_data_re,\n",
    "    eval_dataset=test_data_re,\n",
    "    tokenizer=tokenizer)\n",
    "\n",
    "# Train and evaluate the model\n",
    "trainer_re.train()\n",
    "evaluation_results = trainer_re.evaluate()"
   ]
  },
  {
   "cell_type": "markdown",
   "id": "a522e1fc",
   "metadata": {},
   "source": [
    "**Evaluation:**\n",
    "\n",
    "Used the test set to evaluate the trained model."
   ]
  },
  {
   "cell_type": "code",
   "execution_count": 73,
   "id": "e5803f67",
   "metadata": {},
   "outputs": [
    {
     "name": "stdout",
     "output_type": "stream",
     "text": [
      "Relation Extraction Evaluation Results: {'eval_loss': 2.2711856365203857, 'eval_runtime': 17.2405, 'eval_samples_per_second': 598.59, 'eval_steps_per_second': 12.471, 'epoch': 3.0}\n"
     ]
    }
   ],
   "source": [
    "# Step 5: Output Evaluation Metrics\n",
    "print(\"Relation Extraction Evaluation Results:\", evaluation_results)\n",
    "\n",
    "# Optional: Map back predictions to relation labels\n",
    "predictions = trainer_re.predict(test_data_re)\n",
    "predicted_labels = predictions.predictions.argmax(axis=1)\n",
    "predicted_relations = [id_to_label[pred] for pred in predicted_labels]"
   ]
  },
  {
   "cell_type": "markdown",
   "id": "28af65db",
   "metadata": {},
   "source": [
    "Mapped predicted labels back to relation types."
   ]
  },
  {
   "cell_type": "code",
   "execution_count": 74,
   "id": "3b121945",
   "metadata": {},
   "outputs": [
    {
     "name": "stdout",
     "output_type": "stream",
     "text": [
      "Sample Predicted Relations: ['chem_disease:marker/mechanism', 'chem_disease:marker/mechanism', 'chem_disease:therapeutic', 'chem_disease:therapeutic', 'chem_disease:therapeutic']\n"
     ]
    }
   ],
   "source": [
    "print(\"Sample Predicted Relations:\", predicted_relations[:5])"
   ]
  },
  {
   "cell_type": "markdown",
   "id": "d175b61e",
   "metadata": {},
   "source": [
    "Reported metrics including Precision, Recall, and F1-score for each relation type."
   ]
  },
  {
   "cell_type": "code",
   "execution_count": 75,
   "id": "2ce9099a",
   "metadata": {},
   "outputs": [
    {
     "name": "stdout",
     "output_type": "stream",
     "text": [
      "              precision    recall  f1-score   support\n",
      "\n",
      "           0       0.29      0.21      0.24      1171\n",
      "           1       0.00      0.00      0.00        88\n",
      "           2       0.41      0.37      0.39       191\n",
      "           3       0.18      0.36      0.24       753\n",
      "           4       0.00      0.00      0.00        80\n",
      "           5       0.00      0.00      0.00       203\n",
      "           6       0.00      0.00      0.00        11\n",
      "           7       0.00      0.00      0.00       106\n",
      "           8       0.57      0.81      0.67      1184\n",
      "           9       0.27      0.13      0.18      1347\n",
      "          10       0.00      0.00      0.00       231\n",
      "          11       0.68      0.60      0.64       602\n",
      "          12       0.00      0.00      0.00        36\n",
      "          13       0.34      0.47      0.40       488\n",
      "          14       0.00      0.00      0.00       379\n",
      "          15       0.23      0.48      0.31      1463\n",
      "          16       0.16      0.06      0.09       571\n",
      "          17       0.73      0.50      0.59      1416\n",
      "\n",
      "    accuracy                           0.36     10320\n",
      "   macro avg       0.21      0.22      0.21     10320\n",
      "weighted avg       0.35      0.36      0.34     10320\n",
      "\n"
     ]
    }
   ],
   "source": [
    "report = classification_report(test_labels, predicted_labels, zero_division=0)\n",
    "print(report)\n"
   ]
  },
  {
   "cell_type": "markdown",
   "id": "8799029f",
   "metadata": {},
   "source": [
    "**Results**\n",
    "\n",
    "`NER Results`\n",
    "\n",
    "**NER Classification Report:**\n",
    "\n",
    "Good performance for entity categories like B-Chemical and B-Disease.\n",
    "\n",
    "Lower performance for I-Chemical and I-Disease, likely due to data sparsity and sequence alignment issues.\n",
    "\n",
    "**Validation Loss Over Epochs:**\n",
    "Observed a consistent decline in loss, indicating stable training.\n",
    "\n",
    "\n",
    "`RE Results`\n",
    "\n",
    "**Relation Extraction Classification Report:**\n",
    "\n",
    "Strong performance for frequent relations like chem_disease:marker/mechanism and chem_disease:therapeutic.\n",
    "\n",
    "Lower performance for rare relations like chem_gene:increases^transport, indicating the need for more data or augmentation for these classes.\n",
    "\n",
    "**Validation Loss Over Epochs:**\n",
    "\n",
    "Loss decreased over the training epochs, though some overfitting might be indicated due to the small dataset."
   ]
  },
  {
   "cell_type": "markdown",
   "id": "fe416192",
   "metadata": {},
   "source": [
    "## Multi-Task Learning Shared Encoder with Separate Heads"
   ]
  },
  {
   "cell_type": "markdown",
   "id": "73466b35",
   "metadata": {},
   "source": [
    "In this phase, we implemented and evaluated a multi-task learning model leveraging BioBERT and SciBERT for joint training on NER and RE tasks. \n",
    "\n",
    "**Multi-Task Model Design**\n",
    "\n",
    "The MultiTaskModel is designed to share a single encoder while having two separate heads:\n",
    "\n",
    "Encoder: Extracts contextualized representations for tokens and sentences using BioBERT or SciBERT.\n",
    "\n",
    "NER Head: Processes the encoder's output for token-level classification (NER).\n",
    "\n",
    "Relation Extraction (RE) Head: Processes the pooled output of the encoder for sentence-level classification (RE)."
   ]
  },
  {
   "cell_type": "markdown",
   "id": "d75e8770",
   "metadata": {},
   "source": [
    "## BioBERT"
   ]
  },
  {
   "cell_type": "code",
   "execution_count": 76,
   "id": "7f75ffc3",
   "metadata": {},
   "outputs": [],
   "source": [
    "# Define Multi-Task Model\n",
    "class MultiTaskModel(nn.Module):\n",
    "    def __init__(self, encoder_name, num_ner_labels, num_rel_labels):\n",
    "        super(MultiTaskModel, self).__init__()\n",
    "        self.encoder = AutoModel.from_pretrained(encoder_name)\n",
    "        self.ner_head = nn.Linear(self.encoder.config.hidden_size, num_ner_labels)\n",
    "        self.re_head = nn.Linear(self.encoder.config.hidden_size, num_rel_labels)\n",
    "    \n",
    "    def forward(self, input_ids, attention_mask=None):\n",
    "        outputs = self.encoder(input_ids=input_ids, attention_mask=attention_mask)\n",
    "        sequence_output = outputs.last_hidden_state  # For NER\n",
    "        pooled_output = outputs.pooler_output  # For Relation Extraction\n",
    "        \n",
    "        ner_logits = self.ner_head(sequence_output)\n",
    "        re_logits = self.re_head(pooled_output)\n",
    "        \n",
    "        return ner_logits, re_logits\n",
    "\n",
    "\n",
    "# Initialize Tokenizer\n",
    "tokenizer = AutoTokenizer.from_pretrained(\"dmis-lab/biobert-base-cased-v1.1\")"
   ]
  },
  {
   "cell_type": "markdown",
   "id": "a85c76aa",
   "metadata": {},
   "source": [
    "**Data Preparation**\n",
    "\n",
    "`NER Dataset Preparation`\n",
    "\n",
    "Tokenization:\n",
    "Tokenized text using BioBERT’s tokenizer.\n",
    "Split sentences into tokens and aligned BIO tags to tokens using the word_ids function to handle subword tokenization.\n",
    "\n",
    "Label Mapping:\n",
    "Created a mapping (label_to_id) from BIO tags (O, B-Chemical, I-Chemical, etc.) to integers.\n",
    "Assigned -100 to padding tokens for loss masking during training."
   ]
  },
  {
   "cell_type": "code",
   "execution_count": 77,
   "id": "2c676114",
   "metadata": {},
   "outputs": [],
   "source": [
    "# Prepare NER Dataset\n",
    "def prepare_ner_dataset(dataset, tokenizer, label_to_id, max_length=128):\n",
    "    \"\"\"\n",
    "    Prepares NER dataset for the multi-task model.\n",
    "    Args:\n",
    "        dataset: Split dataset for NER.\n",
    "        tokenizer: Pretrained tokenizer.\n",
    "        label_to_id: Mapping of BIO tags to IDs.\n",
    "        max_length: Maximum sequence length for tokenization.\n",
    "    Returns:\n",
    "        list: List of tokenized inputs and aligned labels.\n",
    "    \"\"\"\n",
    "    tokenized_data = []\n",
    "    for sample in dataset:\n",
    "        tokens, tags = zip(*sample[\"bio_tags\"])  # Unpack tokens and BIO tags\n",
    "        \n",
    "        tokenized = tokenizer(\n",
    "            list(tokens), truncation=True, padding=\"max_length\", max_length=max_length, is_split_into_words=True\n",
    "        )\n",
    "        \n",
    "        # Align labels with tokenized input using word_ids()\n",
    "        word_ids = tokenized.word_ids()\n",
    "        aligned_labels = [\n",
    "            label_to_id[tags[word_id]] if word_id is not None else -100\n",
    "            for word_id in word_ids\n",
    "        ]\n",
    "        \n",
    "        tokenized[\"labels\"] = aligned_labels\n",
    "        tokenized_data.append(tokenized)\n",
    "    return tokenized_data"
   ]
  },
  {
   "cell_type": "markdown",
   "id": "86123b92",
   "metadata": {},
   "source": [
    "`RE Dataset Preparation`\n",
    "\n",
    "Relation Extraction Contexts:\n",
    "\n",
    "Extracted entity pairs from sentences and created a context string of the form:\n",
    "entity1 [SEP] entity2. This ensures clear separation between the two entities.\n",
    "\n",
    "Tokenization:\n",
    "\n",
    "Tokenized the entity pair contexts with BioBERT’s tokenizer and attached their corresponding labels."
   ]
  },
  {
   "cell_type": "code",
   "execution_count": 78,
   "id": "0f7bbc32",
   "metadata": {},
   "outputs": [],
   "source": [
    "# Prepare Relation Extraction Dataset\n",
    "def prepare_re_dataset(dataset, tokenizer, label_to_id, max_length=128):\n",
    "    \"\"\"\n",
    "    Prepares Relation Extraction dataset for the multi-task model.\n",
    "    Args:\n",
    "        dataset: Split dataset for relation extraction.\n",
    "        tokenizer: Pretrained tokenizer.\n",
    "        label_to_id: Mapping of relation labels to IDs.\n",
    "        max_length: Maximum sequence length for tokenization.\n",
    "    Returns:\n",
    "        list: List of tokenized inputs and labels.\n",
    "    \"\"\"\n",
    "    tokenized_data = []\n",
    "    for sample in dataset:\n",
    "        for relation in sample[\"relation_tuples\"]:\n",
    "            entity1, relation_type, entity2 = relation\n",
    "            context = f\"{entity1} [SEP] {entity2}\"\n",
    "            tokenized = tokenizer(\n",
    "                context, truncation=True, padding=\"max_length\", max_length=max_length\n",
    "            )\n",
    "            # Assign the correct label\n",
    "            if relation_type in label_to_id:\n",
    "                tokenized[\"relation_label\"] = label_to_id[relation_type]\n",
    "                tokenized_data.append(tokenized)\n",
    "            else:\n",
    "                print(f\"Unknown relation type: {relation_type}\")\n",
    "    return tokenized_data"
   ]
  },
  {
   "cell_type": "code",
   "execution_count": 79,
   "id": "cd3cdf47",
   "metadata": {},
   "outputs": [],
   "source": [
    "def extract_relation_types(dataset):\n",
    "    relation_types = set()\n",
    "    for sample in dataset:\n",
    "        for relation in sample[\"relation_tuples\"]:\n",
    "            _, relation_type, _ = relation\n",
    "            relation_types.add(relation_type)\n",
    "    return relation_types"
   ]
  },
  {
   "cell_type": "markdown",
   "id": "b765937f",
   "metadata": {},
   "source": [
    "**Multi-Task DataLoader**\n",
    "\n",
    "To feed the model, NER and RE datasets were combined into a single DataLoader. For each batch:\n",
    "\n",
    "NER Data: Input IDs, attention masks, and token-level labels.\n",
    "\n",
    "RE Data: Input IDs, attention masks, and sentence-level relation labels."
   ]
  },
  {
   "cell_type": "code",
   "execution_count": 80,
   "id": "6e53a120",
   "metadata": {},
   "outputs": [],
   "source": [
    "# Prepare Multi-Task DataLoader\n",
    "def prepare_multi_task_data(train_ner, train_re, tokenizer, batch_size=16):\n",
    "    \"\"\"\n",
    "    Combines NER and relation extraction data into a DataLoader.\n",
    "    Args:\n",
    "        train_ner: Tokenized NER data.\n",
    "        train_re: Tokenized relation extraction data.\n",
    "        tokenizer: Pretrained tokenizer.\n",
    "        batch_size (int): Batch size.\n",
    "    Returns:\n",
    "        DataLoader: DataLoader for training.\n",
    "    \"\"\"\n",
    "    input_ids = []\n",
    "    attention_masks = []\n",
    "    ner_labels = []\n",
    "    re_labels = []\n",
    "\n",
    "    for ner_sample, re_sample in zip(train_ner, train_re):\n",
    "        input_ids.append(ner_sample[\"input_ids\"])\n",
    "        attention_masks.append(ner_sample[\"attention_mask\"])\n",
    "        ner_labels.append(ner_sample[\"labels\"])\n",
    "        re_labels.append(re_sample[\"relation_label\"])\n",
    "\n",
    "    # Convert to tensors\n",
    "    input_ids = torch.tensor(input_ids)\n",
    "    attention_masks = torch.tensor(attention_masks)\n",
    "    ner_labels = torch.tensor(ner_labels)\n",
    "    re_labels = torch.tensor(re_labels)\n",
    "\n",
    "    # Create DataLoader\n",
    "    dataset = torch.utils.data.TensorDataset(input_ids, attention_masks, ner_labels, re_labels)\n",
    "    return DataLoader(dataset, batch_size=batch_size, shuffle=True)"
   ]
  },
  {
   "cell_type": "markdown",
   "id": "40cbe24a",
   "metadata": {},
   "source": [
    "**Training Process**\n",
    "\n",
    "DataLoader Preparation\n",
    "\n",
    "We combined NER and RE data into a single DataLoader:\n",
    "1. Merged tokenized NER and RE datasets.\n",
    "2. Aligned the input features (`input_ids`, `attention_mask`) with task-specific labels:\n",
    "   - `labels_ner` for token-level BIO-tagging.\n",
    "   - `labels_re` for relation classification.\n",
    "\n",
    "**Loss Functions**\n",
    "1. NER Loss:\n",
    "   - Used `CrossEntropyLoss` for token classification.\n",
    "   - Ignored padding tokens (`-100`).\n",
    "2. RE Loss:\n",
    "   - Used `CrossEntropyLoss` for sentence-level classification.\n",
    "3. Total Loss:\n",
    "   - Sum of NER and RE losses to jointly train both tasks.\n",
    "\n",
    "**Optimizer**\n",
    "- Used AdamW with a learning rate of 1e-5 to fine-tune the model.\n",
    "\n",
    "**Training**\n",
    "The model was trained for 20 epochs. During each epoch:\n",
    "1. Forward Pass:\n",
    "   - The input data was passed through the shared encoder and task-specific heads.\n",
    "   - NER logits were computed for each token, and RE logits were computed for each sentence.\n",
    "2. Loss Calculation:\n",
    "   - NER loss and RE loss were calculated separately and summed.\n",
    "3. Backpropagation:\n",
    "   - Gradients were computed for both losses, and the model was updated using AdamW."
   ]
  },
  {
   "cell_type": "code",
   "execution_count": 81,
   "id": "899565d7",
   "metadata": {},
   "outputs": [],
   "source": [
    "# Define Loss Functions and Optimizer\n",
    "def train_multi_task_model(train_loader, model, num_ner_labels, num_rel_labels, epochs=20, lr=1e-5):\n",
    "    optimizer = AdamW(model.parameters(), lr=lr)\n",
    "    loss_fn_ner = nn.CrossEntropyLoss(ignore_index=-100)\n",
    "    loss_fn_re = nn.CrossEntropyLoss()\n",
    "\n",
    "    for epoch in range(epochs):\n",
    "        model.train()\n",
    "        total_loss = 0\n",
    "        for batch in train_loader:\n",
    "            input_ids = batch[0]\n",
    "            attention_mask = batch[1]\n",
    "            labels_ner = batch[2]\n",
    "            labels_re = batch[3]\n",
    "\n",
    "            # Forward pass\n",
    "            ner_logits, re_logits = model(input_ids, attention_mask=attention_mask)\n",
    "\n",
    "            # Compute losses\n",
    "            loss_ner = loss_fn_ner(ner_logits.view(-1, num_ner_labels), labels_ner.view(-1))\n",
    "            loss_re = loss_fn_re(re_logits, labels_re)\n",
    "            loss = loss_ner + loss_re\n",
    "\n",
    "            # Backpropagation\n",
    "            optimizer.zero_grad()\n",
    "            loss.backward()\n",
    "            optimizer.step()\n",
    "\n",
    "            total_loss += loss.item()\n",
    "\n",
    "        print(f\"Epoch {epoch + 1}/{epochs}, Loss: {total_loss / len(train_loader)}\")\n",
    "\n",
    "    return model"
   ]
  },
  {
   "cell_type": "markdown",
   "id": "dbc521ac",
   "metadata": {},
   "source": [
    "Relation Labels:\n",
    "\n",
    "Created a mapping (relation_label_to_id) for all possible relation types (e.g., chem_disease:therapeutic) to integers.\n",
    "\n",
    "Filtered out unknown or unsupported relation types."
   ]
  },
  {
   "cell_type": "code",
   "execution_count": 82,
   "id": "a8a34f79",
   "metadata": {},
   "outputs": [
    {
     "name": "stderr",
     "output_type": "stream",
     "text": [
      "huggingface/tokenizers: The current process just got forked, after parallelism has already been used. Disabling parallelism to avoid deadlocks...\n",
      "To disable this warning, you can either:\n",
      "\t- Avoid using `tokenizers` before the fork if possible\n",
      "\t- Explicitly set the environment variable TOKENIZERS_PARALLELISM=(true | false)\n"
     ]
    }
   ],
   "source": [
    "# Dataset Splits\n",
    "label_to_id = {label: idx for idx, label in enumerate([\"O\", \"B-Chemical\", \"I-Chemical\", \"B-Disease\", \"I-Disease\"])}\n",
    "\n",
    "# Extract Relation Types\n",
    "train_relation_types = extract_relation_types(chem_dis_gene_splits[\"train\"])\n",
    "test_relation_types = extract_relation_types(chem_dis_gene_splits[\"test\"])\n",
    "all_relation_types = train_relation_types.union(test_relation_types)\n",
    "relation_label_to_id = {relation: idx for idx, relation in enumerate(all_relation_types)}\n",
    "\n",
    "# Prepare NER and RE data\n",
    "train_ner_data = prepare_ner_dataset(bc5cdr_splits[\"train\"], tokenizer, label_to_id)\n",
    "train_re_data = prepare_re_dataset(chem_dis_gene_splits[\"train\"], tokenizer, relation_label_to_id)\n",
    "\n",
    "# Multi-task DataLoader\n",
    "train_loader = prepare_multi_task_data(train_ner_data, train_re_data, tokenizer)\n",
    "\n",
    "# Initialize Multi-Task Model\n",
    "num_ner_labels = len(label_to_id)\n",
    "num_rel_labels = len(relation_label_to_id)\n",
    "multi_task_model = MultiTaskModel(\"dmis-lab/biobert-base-cased-v1.1\", num_ner_labels, num_rel_labels)"
   ]
  },
  {
   "cell_type": "markdown",
   "id": "a8c143d3",
   "metadata": {},
   "source": [
    "**Training Loop**\n",
    "\n",
    "The model was trained jointly for both tasks:\n",
    "\n",
    "Loss Functions:\n",
    "* NER: Token-level cross-entropy loss with ignore_index=-100 for padding.\n",
    "* RE: Sentence-level cross-entropy loss.\n",
    "\n",
    "Optimization:\n",
    "* Combined the two losses for joint optimization.\n",
    "* Backpropagation and weight updates were done using AdamW."
   ]
  },
  {
   "cell_type": "markdown",
   "id": "a627ee4d",
   "metadata": {},
   "source": [
    "**Training**\n",
    "\n",
    "The model was trained for 20 epochs. During each epoch:\n",
    "1. Forward Pass:\n",
    "   - The input data was passed through the shared encoder and task-specific heads.\n",
    "   - NER logits were computed for each token, and RE logits were computed for each sentence.\n",
    "2. Loss Calculation:\n",
    "   - NER loss and RE loss were calculated separately and summed.\n",
    "3. Backpropagation:\n",
    "   - Gradients were computed for both losses, and the model was updated using AdamW."
   ]
  },
  {
   "cell_type": "code",
   "execution_count": 83,
   "id": "0b473353",
   "metadata": {},
   "outputs": [
    {
     "name": "stderr",
     "output_type": "stream",
     "text": [
      "/home/pperla/.conda/envs/nlp_assignment/lib/python3.12/site-packages/transformers/optimization.py:591: FutureWarning: This implementation of AdamW is deprecated and will be removed in a future version. Use the PyTorch implementation torch.optim.AdamW instead, or set `no_deprecation_warning=True` to disable this warning\n",
      "  warnings.warn(\n"
     ]
    },
    {
     "name": "stdout",
     "output_type": "stream",
     "text": [
      "Epoch 1/20, Loss: 4.011008273471486\n",
      "Epoch 2/20, Loss: 3.1825105168602685\n",
      "Epoch 3/20, Loss: 2.7407731251283125\n",
      "Epoch 4/20, Loss: 2.470097140832381\n",
      "Epoch 5/20, Loss: 2.3000051270831716\n",
      "Epoch 6/20, Loss: 2.1524507132443516\n",
      "Epoch 7/20, Loss: 2.0401704040440647\n",
      "Epoch 8/20, Loss: 1.8994456312873147\n",
      "Epoch 9/20, Loss: 1.8091457594524731\n",
      "Epoch 10/20, Loss: 1.6897831884297458\n",
      "Epoch 11/20, Loss: 1.603543763810938\n",
      "Epoch 12/20, Loss: 1.5148781483823603\n",
      "Epoch 13/20, Loss: 1.441392102024772\n",
      "Epoch 14/20, Loss: 1.3535548123446377\n",
      "Epoch 15/20, Loss: 1.2864649214527824\n",
      "Epoch 16/20, Loss: 1.2023707682436162\n",
      "Epoch 17/20, Loss: 1.119357924569737\n",
      "Epoch 18/20, Loss: 1.0547196675430646\n",
      "Epoch 19/20, Loss: 0.9597901701927185\n",
      "Epoch 20/20, Loss: 0.8744925829497251\n",
      "CPU times: user 1h 49min 24s, sys: 2min 15s, total: 1h 51min 39s\n",
      "Wall time: 37min 39s\n"
     ]
    }
   ],
   "source": [
    "%%time\n",
    "# Train Multi-Task Model\n",
    "trained_model = train_multi_task_model(train_loader, multi_task_model, num_ner_labels, num_rel_labels)"
   ]
  },
  {
   "cell_type": "code",
   "execution_count": 84,
   "id": "064e5b08",
   "metadata": {},
   "outputs": [],
   "source": [
    "# Save Model\n",
    "torch.save(trained_model.state_dict(), \"multi_task_model.pth\")"
   ]
  },
  {
   "cell_type": "code",
   "execution_count": 85,
   "id": "b0e14910",
   "metadata": {},
   "outputs": [],
   "source": [
    "def evaluate_multi_task_model(test_loader, model, num_ner_labels, num_rel_labels):\n",
    "    model.eval()\n",
    "    ner_true, ner_pred = [], []  # Lists for storing NER ground truth and predictions\n",
    "    re_true, re_pred = [], []  # Lists for storing RE ground truth and predictions\n",
    "    \n",
    "    with torch.no_grad():\n",
    "        for batch in test_loader:\n",
    "            input_ids = batch[0]\n",
    "            attention_mask = batch[1]\n",
    "            labels_ner = batch[2]\n",
    "            labels_re = batch[3]\n",
    "\n",
    "            # Forward pass\n",
    "            ner_logits, re_logits = model(input_ids, attention_mask=attention_mask)\n",
    "\n",
    "            # Collect NER predictions\n",
    "            ner_preds = torch.argmax(ner_logits, dim=-1).view(-1).cpu().numpy()\n",
    "            ner_labels = labels_ner.view(-1).cpu().numpy()\n",
    "            ner_true.extend(ner_labels)\n",
    "            ner_pred.extend(ner_preds)\n",
    "\n",
    "            # Collect RE predictions\n",
    "            re_preds = torch.argmax(re_logits, dim=-1).cpu().numpy()\n",
    "            re_labels = labels_re.cpu().numpy()\n",
    "            re_true.extend(re_labels)\n",
    "            re_pred.extend(re_preds)\n",
    "    \n",
    "    # Calculate metrics for NER\n",
    "    ner_report = classification_report(\n",
    "        ner_true, ner_pred, labels=list(range(num_ner_labels)), zero_division=0\n",
    "    )\n",
    "    \n",
    "    # Calculate metrics for Relation Extraction\n",
    "    re_report = classification_report(\n",
    "        re_true, re_pred, labels=list(range(num_rel_labels)), zero_division=0\n",
    "    )\n",
    "    \n",
    "    print(\"NER Evaluation Report:\\n\", ner_report)\n",
    "    print(\"Relation Extraction Evaluation Report:\\n\", re_report)"
   ]
  },
  {
   "cell_type": "code",
   "execution_count": 86,
   "id": "46b9f804",
   "metadata": {},
   "outputs": [
    {
     "name": "stdout",
     "output_type": "stream",
     "text": [
      "NER Evaluation Report:\n",
      "               precision    recall  f1-score   support\n",
      "\n",
      "           0       0.93      0.96      0.94      6873\n",
      "           1       0.82      0.86      0.84      1153\n",
      "           2       0.78      0.37      0.50       206\n",
      "           3       0.74      0.82      0.78       801\n",
      "           4       0.72      0.62      0.66       362\n",
      "\n",
      "   micro avg       0.89      0.91      0.90      9395\n",
      "   macro avg       0.80      0.73      0.75      9395\n",
      "weighted avg       0.89      0.91      0.90      9395\n",
      "\n",
      "Relation Extraction Evaluation Report:\n",
      "               precision    recall  f1-score   support\n",
      "\n",
      "           0       0.00      0.00      0.00       0.0\n",
      "           1       0.00      0.00      0.00       0.0\n",
      "           2       0.00      0.00      0.00       0.0\n",
      "           3       0.00      0.00      0.00       0.0\n",
      "           4       0.00      0.00      0.00       0.0\n",
      "           5       0.00      0.00      0.00       0.0\n",
      "           6       0.00      0.00      0.00      12.0\n",
      "           7       0.00      0.00      0.00       0.0\n",
      "           8       0.00      0.00      0.00       0.0\n",
      "           9       0.00      0.00      0.00       0.0\n",
      "          10       0.00      0.00      0.00       0.0\n",
      "          11       0.00      0.00      0.00       0.0\n",
      "          12       0.00      0.00      0.00       0.0\n",
      "          13       0.00      0.00      0.00       0.0\n",
      "          14       0.00      0.00      0.00      63.0\n",
      "          15       0.00      0.00      0.00       0.0\n",
      "          16       0.00      0.00      0.00       0.0\n",
      "          17       0.00      0.00      0.00       0.0\n",
      "\n",
      "    accuracy                           0.00      75.0\n",
      "   macro avg       0.00      0.00      0.00      75.0\n",
      "weighted avg       0.00      0.00      0.00      75.0\n",
      "\n"
     ]
    }
   ],
   "source": [
    "# Prepare test DataLoader\n",
    "test_ner_data = prepare_ner_dataset(bc5cdr_splits[\"test\"], tokenizer, label_to_id)\n",
    "test_re_data = prepare_re_dataset(chem_dis_gene_splits[\"test\"], tokenizer, relation_label_to_id)\n",
    "test_loader = prepare_multi_task_data(test_ner_data, test_re_data, tokenizer)\n",
    "\n",
    "# Evaluate the model\n",
    "evaluate_multi_task_model(test_loader, trained_model, num_ner_labels, num_rel_labels)"
   ]
  },
  {
   "cell_type": "markdown",
   "id": "c0b98d34",
   "metadata": {},
   "source": [
    "**NER Evaluation**\n",
    "\n",
    "* The model achieved high performance for B-Chemical and B-Disease categories, indicating that the shared encoder effectively learned biomedical entities.\n",
    "\n",
    "* Performance for I-Chemical and I-Disease was slightly lower due to the imbalance and sparsity of these labels in the dataset.\n",
    "\n",
    "**RE Evaluation**\n",
    "\n",
    "* The RE task faced challenges, with low precision and recall across most relation types.\n",
    "\n",
    "* The poor performance suggests that the RE head struggled to learn effectively, potentially due to:\n",
    "Class imbalance in the RE dataset.\n",
    "\n",
    "* Insufficient shared features for relation classification."
   ]
  },
  {
   "cell_type": "markdown",
   "id": "b3164fd3",
   "metadata": {},
   "source": [
    "## SciBert"
   ]
  },
  {
   "cell_type": "markdown",
   "id": "db9771a6",
   "metadata": {},
   "source": [
    "**Model Architecture**\n",
    "\n",
    "**SciBERT-Based Multi-Task Model**\n",
    "\n",
    "We designed the `MultiTaskModelSciBERT` class with:\n",
    "1. Encoder:\n",
    "   - A shared SciBERT encoder (`allenai/scibert_scivocab_cased`), pretrained on scientific text.\n",
    "2. NER Head:\n",
    "   - A linear layer for token-level classification. It predicts BIO tags (`B-Chemical`, `I-Disease`, etc.).\n",
    "3. RE Head:\n",
    "   - A linear layer for sentence-level classification. It predicts relation types (e.g., `chem_disease:therapeutic`).\n",
    "\n",
    "**Forward Pass:**\n",
    "- Inputs: Tokenized text and attention masks.\n",
    "- Outputs:\n",
    "  1. NER Logits: Token-level predictions from the encoder's `last_hidden_state`.\n",
    "  2. RE Logits: Sentence-level predictions from the encoder's `pooler_output`."
   ]
  },
  {
   "cell_type": "code",
   "execution_count": 87,
   "id": "7475b71d",
   "metadata": {},
   "outputs": [],
   "source": [
    "# Define Multi-Task Model\n",
    "class MultiTaskModelSciBERT(nn.Module):\n",
    "    def __init__(self, encoder_name, num_ner_labels, num_rel_labels):\n",
    "        super(MultiTaskModelSciBERT, self).__init__()\n",
    "        self.encoder = AutoModel.from_pretrained(encoder_name)\n",
    "        self.ner_head = nn.Linear(self.encoder.config.hidden_size, num_ner_labels)\n",
    "        self.re_head = nn.Linear(self.encoder.config.hidden_size, num_rel_labels)\n",
    "    \n",
    "    def forward(self, input_ids, attention_mask=None):\n",
    "        outputs = self.encoder(input_ids=input_ids, attention_mask=attention_mask)\n",
    "        sequence_output = outputs.last_hidden_state  # For NER\n",
    "        pooled_output = outputs.pooler_output  # For Relation Extraction\n",
    "        \n",
    "        ner_logits = self.ner_head(sequence_output)\n",
    "        re_logits = self.re_head(pooled_output)\n",
    "        \n",
    "        return ner_logits, re_logits\n",
    "\n",
    "\n",
    "# Initialize SciBERT Tokenizer\n",
    "tokenizer_sci = AutoTokenizer.from_pretrained(\"allenai/scibert_scivocab_cased\")"
   ]
  },
  {
   "cell_type": "markdown",
   "id": "42ce343f",
   "metadata": {},
   "source": [
    "**Dataset Preparation**\n",
    "\n",
    "**NER Dataset**\n",
    "1. BIO-Tagged Tokens:\n",
    "   - Tokens and corresponding BIO tags (`O`, `B-Chemical`, etc.) were extracted from the BC5CDR dataset.\n",
    "2. Tokenization:\n",
    "   - Text was tokenized using the SciBERT tokenizer.\n",
    "   - Tags were aligned with subword tokens using the `word_ids()` function.\n",
    "3. Labels:\n",
    "   - A mapping (`label_to_id`) was created to convert BIO tags into numeric IDs.\n",
    "   - Padding tokens were assigned a label of `-100` to ignore them during loss calculation."
   ]
  },
  {
   "cell_type": "code",
   "execution_count": 88,
   "id": "eb382334",
   "metadata": {},
   "outputs": [],
   "source": [
    "# Prepare NER Dataset\n",
    "def prepare_ner_dataset(dataset, tokenizer, label_to_id, max_length=128):\n",
    "    tokenized_data = []\n",
    "    for sample in dataset:\n",
    "        tokens, tags = zip(*sample[\"bio_tags\"])  # Unpack tokens and BIO tags\n",
    "        \n",
    "        tokenized = tokenizer(\n",
    "            list(tokens), truncation=True, padding=\"max_length\", max_length=max_length, is_split_into_words=True\n",
    "        )\n",
    "        \n",
    "        # Align labels with tokenized input using word_ids()\n",
    "        word_ids = tokenized.word_ids()\n",
    "        aligned_labels = [\n",
    "            label_to_id[tags[word_id]] if word_id is not None else -100\n",
    "            for word_id in word_ids\n",
    "        ]\n",
    "        \n",
    "        tokenized[\"labels\"] = aligned_labels\n",
    "        tokenized_data.append(tokenized)\n",
    "    return tokenized_data"
   ]
  },
  {
   "cell_type": "markdown",
   "id": "f1582933",
   "metadata": {},
   "source": [
    "**Relation Extraction Dataset**\n",
    "1. Entity Pairs:\n",
    "   - Relations were extracted as entity pairs (e.g., `entity1` and `entity2`) from the CHEM_DIS_GENE dataset.\n",
    "   - A context string was created for each pair:  \n",
    "     `entity1 [SEP] entity2`.\n",
    "2. Labels:\n",
    "   - Relations were mapped to numeric IDs using a dictionary (`relation_label_to_id`).\n",
    "   - Only valid relation types were included."
   ]
  },
  {
   "cell_type": "code",
   "execution_count": 89,
   "id": "43522873",
   "metadata": {},
   "outputs": [],
   "source": [
    "# Prepare Relation Extraction Dataset\n",
    "def prepare_re_dataset(dataset, tokenizer, label_to_id, max_length=128):\n",
    "    tokenized_data = []\n",
    "    for sample in dataset:\n",
    "        for relation in sample[\"relation_tuples\"]:\n",
    "            entity1, relation_type, entity2 = relation\n",
    "            context = f\"{entity1} [SEP] {entity2}\"\n",
    "            tokenized = tokenizer(\n",
    "                context, truncation=True, padding=\"max_length\", max_length=max_length\n",
    "            )\n",
    "            if relation_type in label_to_id:\n",
    "                tokenized[\"relation_label\"] = label_to_id[relation_type]\n",
    "                tokenized_data.append(tokenized)\n",
    "    return tokenized_data"
   ]
  },
  {
   "cell_type": "markdown",
   "id": "88c14ff1",
   "metadata": {},
   "source": [
    "**3. Multi-Task DataLoader**\n",
    "\n",
    "We prepared a combined DataLoader for both tasks:\n",
    "1. NER Features:\n",
    "   - `input_ids`, `attention_mask`, and token-level `labels` for BIO tagging.\n",
    "2. RE Features:\n",
    "   - `relation_label` for sentence-level classification.\n",
    "3. Tensors:\n",
    "   - Converted features to PyTorch tensors and combined them into a single dataset."
   ]
  },
  {
   "cell_type": "code",
   "execution_count": 90,
   "id": "0ebbafec",
   "metadata": {},
   "outputs": [],
   "source": [
    "# Prepare Multi-Task DataLoader\n",
    "def prepare_multi_task_data(train_ner, train_re, tokenizer, batch_size=16):\n",
    "    input_ids = []\n",
    "    attention_masks = []\n",
    "    ner_labels = []\n",
    "    re_labels = []\n",
    "\n",
    "    for ner_sample, re_sample in zip(train_ner, train_re):\n",
    "        input_ids.append(ner_sample[\"input_ids\"])\n",
    "        attention_masks.append(ner_sample[\"attention_mask\"])\n",
    "        ner_labels.append(ner_sample[\"labels\"])\n",
    "        re_labels.append(re_sample[\"relation_label\"])\n",
    "\n",
    "    # Convert to tensors\n",
    "    input_ids = torch.tensor(input_ids)\n",
    "    attention_masks = torch.tensor(attention_masks)\n",
    "    ner_labels = torch.tensor(ner_labels)\n",
    "    re_labels = torch.tensor(re_labels)\n",
    "\n",
    "    # Create DataLoader\n",
    "    dataset = torch.utils.data.TensorDataset(input_ids, attention_masks, ner_labels, re_labels)\n",
    "    return DataLoader(dataset, batch_size=batch_size, shuffle=True)"
   ]
  },
  {
   "cell_type": "markdown",
   "id": "34a6fae8",
   "metadata": {},
   "source": [
    "\n",
    "**Training Loop**\n",
    "\n",
    "**Loss Functions**\n",
    "\n",
    "1. NER Loss:\n",
    "   - Used `CrossEntropyLoss`, ignoring padding tokens (`-100`).\n",
    "2. RE Loss:\n",
    "   - Used `CrossEntropyLoss` for multi-class classification.\n",
    "3. Total Loss:\n",
    "   - Combined the NER and RE losses.\n",
    "\n",
    "**Optimization**\n",
    "- Used AdamW optimizer with a learning rate of `2e-5`.\n",
    "\n",
    "**Epochs**\n",
    "The model was trained for 20 epochs. For each epoch:\n",
    "1. Forward Pass:\n",
    "   - Input data was passed through the shared encoder.\n",
    "   - NER and RE logits were computed by task-specific heads.\n",
    "2. Loss Calculation:\n",
    "   - NER loss was computed over token-level predictions.\n",
    "   - RE loss was computed over sentence-level predictions.\n",
    "   - Total loss was backpropagated, and the model parameters were updated."
   ]
  },
  {
   "cell_type": "code",
   "execution_count": 91,
   "id": "327b8822",
   "metadata": {},
   "outputs": [],
   "source": [
    "# Define Training Loop\n",
    "def train_multi_task_model_sci(train_loader, model, num_ner_labels, num_rel_labels, epochs=20, lr=2e-5):\n",
    "    optimizer = AdamW(model.parameters(), lr=lr)\n",
    "    loss_fn_ner = nn.CrossEntropyLoss(ignore_index=-100)\n",
    "    loss_fn_re = nn.CrossEntropyLoss()\n",
    "\n",
    "    for epoch in range(epochs):\n",
    "        model.train()\n",
    "        total_loss = 0\n",
    "        for batch in train_loader:\n",
    "            input_ids = batch[0]\n",
    "            attention_mask = batch[1]\n",
    "            labels_ner = batch[2]\n",
    "            labels_re = batch[3]\n",
    "\n",
    "            # Forward pass\n",
    "            ner_logits, re_logits = model(input_ids, attention_mask=attention_mask)\n",
    "\n",
    "            # Compute losses\n",
    "            loss_ner = loss_fn_ner(ner_logits.view(-1, num_ner_labels), labels_ner.view(-1))\n",
    "            loss_re = loss_fn_re(re_logits, labels_re)\n",
    "            loss = loss_ner + loss_re\n",
    "\n",
    "            # Backpropagation\n",
    "            optimizer.zero_grad()\n",
    "            loss.backward()\n",
    "            optimizer.step()\n",
    "\n",
    "            total_loss += loss.item()\n",
    "\n",
    "        print(f\"Epoch {epoch + 1}/{epochs}, Loss: {total_loss / len(train_loader)}\")\n",
    "\n",
    "    return model"
   ]
  },
  {
   "cell_type": "code",
   "execution_count": 92,
   "id": "1662cf8e",
   "metadata": {},
   "outputs": [],
   "source": [
    "# Extract Relation Types\n",
    "def extract_relation_types(dataset):\n",
    "    relation_types = set()\n",
    "    for sample in dataset:\n",
    "        for relation in sample[\"relation_tuples\"]:\n",
    "            _, relation_type, _ = relation\n",
    "            relation_types.add(relation_type)\n",
    "    return relation_types"
   ]
  },
  {
   "cell_type": "code",
   "execution_count": 93,
   "id": "f9ae8dd7",
   "metadata": {},
   "outputs": [
    {
     "name": "stderr",
     "output_type": "stream",
     "text": [
      "huggingface/tokenizers: The current process just got forked, after parallelism has already been used. Disabling parallelism to avoid deadlocks...\n",
      "To disable this warning, you can either:\n",
      "\t- Avoid using `tokenizers` before the fork if possible\n",
      "\t- Explicitly set the environment variable TOKENIZERS_PARALLELISM=(true | false)\n"
     ]
    }
   ],
   "source": [
    "# Dataset Splits and Label Mappings\n",
    "label_to_id = {label: idx for idx, label in enumerate([\"O\", \"B-Chemical\", \"I-Chemical\", \"B-Disease\", \"I-Disease\"])}\n",
    "\n",
    "# Extract Relation Types\n",
    "train_relation_types = extract_relation_types(chem_dis_gene_splits[\"train\"])\n",
    "test_relation_types = extract_relation_types(chem_dis_gene_splits[\"test\"])\n",
    "all_relation_types = train_relation_types.union(test_relation_types)\n",
    "relation_label_to_id = {relation: idx for idx, relation in enumerate(all_relation_types)}\n",
    "\n",
    "# Prepare NER and RE data\n",
    "train_ner_data = prepare_ner_dataset(bc5cdr_splits[\"train\"], tokenizer_sci, label_to_id)\n",
    "train_re_data = prepare_re_dataset(chem_dis_gene_splits[\"train\"], tokenizer_sci, relation_label_to_id)\n",
    "\n",
    "# Multi-task DataLoader\n",
    "train_loader = prepare_multi_task_data(train_ner_data, train_re_data, tokenizer_sci)\n",
    "\n",
    "# Initialize Multi-Task Model with SciBERT\n",
    "num_ner_labels = len(label_to_id)\n",
    "num_rel_labels = len(relation_label_to_id)\n",
    "multi_task_model_sci = MultiTaskModelSciBERT(\"allenai/scibert_scivocab_cased\", num_ner_labels, num_rel_labels)"
   ]
  },
  {
   "cell_type": "code",
   "execution_count": 94,
   "id": "d14517b8",
   "metadata": {},
   "outputs": [
    {
     "name": "stderr",
     "output_type": "stream",
     "text": [
      "/home/pperla/.conda/envs/nlp_assignment/lib/python3.12/site-packages/transformers/optimization.py:591: FutureWarning: This implementation of AdamW is deprecated and will be removed in a future version. Use the PyTorch implementation torch.optim.AdamW instead, or set `no_deprecation_warning=True` to disable this warning\n",
      "  warnings.warn(\n"
     ]
    },
    {
     "name": "stdout",
     "output_type": "stream",
     "text": [
      "Epoch 1/20, Loss: 2.9984978437423706\n",
      "Epoch 2/20, Loss: 2.336603283882141\n",
      "Epoch 3/20, Loss: 2.1355469551953403\n",
      "Epoch 4/20, Loss: 1.9923291585662148\n",
      "Epoch 5/20, Loss: 1.8002874038436196\n",
      "Epoch 6/20, Loss: 1.615173946727406\n",
      "Epoch 7/20, Loss: 1.2954885471950879\n",
      "Epoch 8/20, Loss: 0.959556823427027\n",
      "Epoch 9/20, Loss: 0.7184644869782708\n",
      "Epoch 10/20, Loss: 0.5544729137962515\n",
      "Epoch 11/20, Loss: 0.4517537362196229\n",
      "Epoch 12/20, Loss: 0.3765248168598522\n",
      "Epoch 13/20, Loss: 0.298906261948022\n",
      "Epoch 14/20, Loss: 0.22824622758410193\n",
      "Epoch 15/20, Loss: 0.1923516792329875\n",
      "Epoch 16/20, Loss: 0.1538152742114934\n",
      "Epoch 17/20, Loss: 0.1244105256416581\n",
      "Epoch 18/20, Loss: 0.10334610668095676\n",
      "Epoch 19/20, Loss: 0.09133919277651743\n",
      "Epoch 20/20, Loss: 0.09462589431892741\n",
      "CPU times: user 1h 47min 47s, sys: 1min 41s, total: 1h 49min 28s\n",
      "Wall time: 36min 49s\n"
     ]
    }
   ],
   "source": [
    "%%time\n",
    "# Train Multi-Task Model\n",
    "trained_model_sci = train_multi_task_model_sci(train_loader, multi_task_model_sci, num_ner_labels, num_rel_labels)"
   ]
  },
  {
   "cell_type": "code",
   "execution_count": 95,
   "id": "bdcffcf2",
   "metadata": {},
   "outputs": [],
   "source": [
    "# Save Model\n",
    "torch.save(trained_model_sci.state_dict(), \"multi_task_model_sci_9.pth\")"
   ]
  },
  {
   "cell_type": "code",
   "execution_count": 96,
   "id": "cf8d0a6d",
   "metadata": {},
   "outputs": [],
   "source": [
    "def evaluate_multi_task_model(test_loader, model, num_ner_labels, num_rel_labels, label_to_id, relation_label_to_id):\n",
    "    \"\"\"\n",
    "    Evaluate a multi-task model for NER and relation extraction.\n",
    "    Args:\n",
    "        test_loader: DataLoader for the test set.\n",
    "        model: Trained multi-task model.\n",
    "        num_ner_labels: Number of NER labels.\n",
    "        num_rel_labels: Number of relation labels.\n",
    "        label_to_id: Mapping of BIO tags to IDs.\n",
    "        relation_label_to_id: Mapping of relation types to IDs.\n",
    "    \"\"\"\n",
    "    model.eval()\n",
    "    ner_true = []\n",
    "    ner_pred = []\n",
    "    re_true = []\n",
    "    re_pred = []\n",
    "    \n",
    "    with torch.no_grad():\n",
    "        for batch in test_loader:\n",
    "            input_ids = batch[0]\n",
    "            attention_mask = batch[1]\n",
    "            labels_ner = batch[2]\n",
    "            labels_re = batch[3]\n",
    "\n",
    "            # Forward pass\n",
    "            ner_logits, re_logits = model(input_ids, attention_mask=attention_mask)\n",
    "\n",
    "            # Collect NER predictions\n",
    "            ner_preds = torch.argmax(ner_logits, dim=-1).view(-1)\n",
    "            ner_labels = labels_ner.view(-1)\n",
    "            ner_true.extend(ner_labels.cpu().numpy())\n",
    "            ner_pred.extend(ner_preds.cpu().numpy())\n",
    "\n",
    "            # Collect RE predictions\n",
    "            re_preds = torch.argmax(re_logits, dim=-1)\n",
    "            re_true.extend(labels_re.cpu().numpy())\n",
    "            re_pred.extend(re_preds.cpu().numpy())\n",
    "    \n",
    "    # Decode labels for NER\n",
    "    id_to_label = {v: k for k, v in label_to_id.items()}\n",
    "    ner_true_decoded = [id_to_label.get(label, \"O\") for label in ner_true]\n",
    "    ner_pred_decoded = [id_to_label.get(label, \"O\") for label in ner_pred]\n",
    "\n",
    "    # Decode labels for RE\n",
    "    id_to_relation = {v: k for k, v in relation_label_to_id.items()}\n",
    "    re_true_decoded = [id_to_relation[label] for label in re_true]\n",
    "    re_pred_decoded = [id_to_relation[label] for label in re_pred]\n",
    "\n",
    "    # NER Metrics\n",
    "    ner_report = classification_report(\n",
    "        ner_true_decoded, ner_pred_decoded, zero_division=0\n",
    "    )\n",
    "    print(\"NER Evaluation Report:\\n\", ner_report)\n",
    "\n",
    "    # Relation Extraction Metrics\n",
    "    re_report = classification_report(\n",
    "        re_true_decoded, re_pred_decoded, zero_division=0\n",
    "    )\n",
    "    print(\"Relation Extraction Evaluation Report:\\n\", re_report)"
   ]
  },
  {
   "cell_type": "code",
   "execution_count": 98,
   "id": "737a6839",
   "metadata": {},
   "outputs": [
    {
     "name": "stdout",
     "output_type": "stream",
     "text": [
      "NER Evaluation Report:\n",
      "               precision    recall  f1-score   support\n",
      "\n",
      "  B-Chemical       0.89      0.87      0.88      1004\n",
      "   B-Disease       0.77      0.79      0.78       523\n",
      "  I-Chemical       0.70      0.52      0.60       191\n",
      "   I-Disease       0.65      0.62      0.63       275\n",
      "           O       0.96      0.97      0.97      7607\n",
      "\n",
      "    accuracy                           0.93      9600\n",
      "   macro avg       0.80      0.76      0.77      9600\n",
      "weighted avg       0.93      0.93      0.93      9600\n",
      "\n",
      "Relation Extraction Evaluation Report:\n",
      "                                           precision    recall  f1-score   support\n",
      "\n",
      "           chem_disease:marker/mechanism       0.00      0.00      0.00         0\n",
      "                chem_disease:therapeutic       0.00      0.00      0.00        12\n",
      "          chem_gene:decreases^expression       1.00      0.08      0.15        63\n",
      "            chem_gene:increases^activity       0.00      0.00      0.00         0\n",
      "          chem_gene:increases^expression       0.00      0.00      0.00         0\n",
      "chem_gene:increases^metabolic_processing       0.00      0.00      0.00         0\n",
      "           gene_disease:marker/mechanism       0.00      0.00      0.00         0\n",
      "\n",
      "                                accuracy                           0.07        75\n",
      "                               macro avg       0.14      0.01      0.02        75\n",
      "                            weighted avg       0.84      0.07      0.12        75\n",
      "\n"
     ]
    }
   ],
   "source": [
    "\n",
    "# Prepare test DataLoader\n",
    "test_ner_data = prepare_ner_dataset(bc5cdr_splits[\"test\"], tokenizer_sci, label_to_id)\n",
    "test_re_data = prepare_re_dataset(chem_dis_gene_splits[\"test\"], tokenizer_sci, relation_label_to_id)\n",
    "test_loader = prepare_multi_task_data(test_ner_data, test_re_data, tokenizer_sci)\n",
    "\n",
    "# Evaluate the model\n",
    "evaluate_multi_task_model(test_loader, trained_model_sci, num_ner_labels, num_rel_labels, label_to_id, relation_label_to_id)"
   ]
  },
  {
   "cell_type": "markdown",
   "id": "dc44a80e",
   "metadata": {},
   "source": [
    "**Results**\n",
    "\n",
    "**NER Performance**\n",
    "\n",
    "SciBERT performed well on NER, achieving high precision, recall, and F1 scores for common labels like `B-Chemical` and `B-Disease`.\n",
    "\n",
    "**Accuracy:** 93%  \n",
    "**Weighted Avg F1-Score:** 93%\n",
    "\n",
    "**RE Performance**\n",
    "\n",
    "The RE task faced challenges, with low performance across all relation types. This was likely due to:\n",
    "- Class imbalance in the dataset.\n",
    "- Limited training data for rare relation types."
   ]
  },
  {
   "cell_type": "markdown",
   "id": "d17932f5",
   "metadata": {},
   "source": [
    "## Real World Input"
   ]
  },
  {
   "cell_type": "code",
   "execution_count": 112,
   "id": "c286d1eb",
   "metadata": {},
   "outputs": [],
   "source": [
    "input_text = \"\"\"Acetaminophen is used to treat mild to moderate pain and fever. It is associated with liver damage if taken in high doses.\n",
    "Patients with hepatitis should avoid its usage.\"\"\"\n",
    "\n",
    "#Patient Medical Records:\n",
    "input_text_2 = \"\"\"The patient, a 45-year-old male, presented with complaints of persistent chest pain radiating to the left arm, exacerbated by physical activity, and relieved by rest. \n",
    "Past medical history includes hypertension and type 2 diabetes. No history of smoking or alcohol consumption was noted.\"\"\"\n",
    "\n",
    "#Pathology Reports:\n",
    "input_text_3 = \"\"\"Biopsy of the left breast mass reveals infiltrating ductal carcinoma, Grade II, with positive hormone receptor status. \n",
    "Margins are free of malignancy.\"\"\"\n",
    "\n",
    "#Pharmacovigilance Records:\n",
    "input_text_4 = \"\"\"A 30-year-old female reported severe dizziness and rash following the administration of drug X. \n",
    "Symptoms appeared within 1 hour of ingestion and resolved after discontinuation of the drug.\"\"\""
   ]
  },
  {
   "cell_type": "markdown",
   "id": "3453fb20",
   "metadata": {},
   "source": [
    "Input text extracted from chatGPT: https://chatgpt.com/share/674f841f-69a0-800b-8844-0977a23bfd55"
   ]
  },
  {
   "cell_type": "code",
   "execution_count": 152,
   "id": "75bee5ad",
   "metadata": {},
   "outputs": [],
   "source": [
    "# Tokenize input text\n",
    "tokenizer_sci = AutoTokenizer.from_pretrained(\"allenai/scibert_scivocab_cased\")\n",
    "\n",
    "# Tokenize text\n",
    "inputs = tokenizer_sci(\n",
    "    input_text.strip().split(), #input_text, input_text_2, input_text_3, input_text_4\n",
    "    return_tensors=\"pt\",\n",
    "    padding=\"max_length\",\n",
    "    truncation=True,\n",
    "    max_length=128,\n",
    "    is_split_into_words=True,)"
   ]
  },
  {
   "cell_type": "code",
   "execution_count": 153,
   "id": "aa06b083",
   "metadata": {
    "scrolled": true
   },
   "outputs": [
    {
     "name": "stderr",
     "output_type": "stream",
     "text": [
      "huggingface/tokenizers: The current process just got forked, after parallelism has already been used. Disabling parallelism to avoid deadlocks...\n",
      "To disable this warning, you can either:\n",
      "\t- Avoid using `tokenizers` before the fork if possible\n",
      "\t- Explicitly set the environment variable TOKENIZERS_PARALLELISM=(true | false)\n",
      "/scratch/local/ipykernel_11048/1387161143.py:9: FutureWarning: You are using `torch.load` with `weights_only=False` (the current default value), which uses the default pickle module implicitly. It is possible to construct malicious pickle data which will execute arbitrary code during unpickling (See https://github.com/pytorch/pytorch/blob/main/SECURITY.md#untrusted-models for more details). In a future release, the default value for `weights_only` will be flipped to `True`. This limits the functions that could be executed during unpickling. Arbitrary objects will no longer be allowed to be loaded via this mode unless they are explicitly allowlisted by the user via `torch.serialization.add_safe_globals`. We recommend you start setting `weights_only=True` for any use case where you don't have full control of the loaded file. Please open an issue on GitHub for any issues related to this experimental feature.\n",
      "  model_sci.load_state_dict(torch.load(\"multi_task_model_sci.pth\")) #with 4% loss @ 93% acc\n"
     ]
    },
    {
     "data": {
      "text/plain": [
       "MultiTaskModelSciBERT(\n",
       "  (encoder): BertModel(\n",
       "    (embeddings): BertEmbeddings(\n",
       "      (word_embeddings): Embedding(31116, 768, padding_idx=0)\n",
       "      (position_embeddings): Embedding(512, 768)\n",
       "      (token_type_embeddings): Embedding(2, 768)\n",
       "      (LayerNorm): LayerNorm((768,), eps=1e-12, elementwise_affine=True)\n",
       "      (dropout): Dropout(p=0.1, inplace=False)\n",
       "    )\n",
       "    (encoder): BertEncoder(\n",
       "      (layer): ModuleList(\n",
       "        (0-11): 12 x BertLayer(\n",
       "          (attention): BertAttention(\n",
       "            (self): BertSdpaSelfAttention(\n",
       "              (query): Linear(in_features=768, out_features=768, bias=True)\n",
       "              (key): Linear(in_features=768, out_features=768, bias=True)\n",
       "              (value): Linear(in_features=768, out_features=768, bias=True)\n",
       "              (dropout): Dropout(p=0.1, inplace=False)\n",
       "            )\n",
       "            (output): BertSelfOutput(\n",
       "              (dense): Linear(in_features=768, out_features=768, bias=True)\n",
       "              (LayerNorm): LayerNorm((768,), eps=1e-12, elementwise_affine=True)\n",
       "              (dropout): Dropout(p=0.1, inplace=False)\n",
       "            )\n",
       "          )\n",
       "          (intermediate): BertIntermediate(\n",
       "            (dense): Linear(in_features=768, out_features=3072, bias=True)\n",
       "            (intermediate_act_fn): GELUActivation()\n",
       "          )\n",
       "          (output): BertOutput(\n",
       "            (dense): Linear(in_features=3072, out_features=768, bias=True)\n",
       "            (LayerNorm): LayerNorm((768,), eps=1e-12, elementwise_affine=True)\n",
       "            (dropout): Dropout(p=0.1, inplace=False)\n",
       "          )\n",
       "        )\n",
       "      )\n",
       "    )\n",
       "    (pooler): BertPooler(\n",
       "      (dense): Linear(in_features=768, out_features=768, bias=True)\n",
       "      (activation): Tanh()\n",
       "    )\n",
       "  )\n",
       "  (ner_head): Linear(in_features=768, out_features=5, bias=True)\n",
       "  (re_head): Linear(in_features=768, out_features=18, bias=True)\n",
       ")"
      ]
     },
     "execution_count": 153,
     "metadata": {},
     "output_type": "execute_result"
    }
   ],
   "source": [
    "# Initialize model with the correct number of NER and RE labels\n",
    "model_sci = MultiTaskModelSciBERT(\n",
    "    \"allenai/scibert_scivocab_cased\",\n",
    "    num_ner_labels=len(label_to_id),  # Same as training\n",
    "    num_rel_labels=len(relation_label_to_id),  # Same as training\n",
    ")\n",
    "\n",
    "# Load the trained weights\n",
    "model_sci.load_state_dict(torch.load(\"multi_task_model_sci.pth\")) #with 4% loss @ 93% acc\n",
    "#model_sci.load_state_dict(torch.load(\"multi_task_model_sci_9.pth\")) #with 9.4% loss @ 93% acc\n",
    "\n",
    "model_sci.eval()  # Set the model to evaluation mode"
   ]
  },
  {
   "cell_type": "code",
   "execution_count": 154,
   "id": "32a6b57c",
   "metadata": {},
   "outputs": [],
   "source": [
    "# Predict with the model\n",
    "with torch.no_grad():\n",
    "    ner_logits, _ = model_sci(input_ids=inputs[\"input_ids\"], attention_mask=inputs[\"attention_mask\"])\n",
    "\n",
    "# Decode predictions\n",
    "ner_preds = torch.argmax(ner_logits, dim=-1)"
   ]
  },
  {
   "cell_type": "code",
   "execution_count": 155,
   "id": "8d475144",
   "metadata": {},
   "outputs": [
    {
     "name": "stdout",
     "output_type": "stream",
     "text": [
      "acet: B-Chemical\n",
      "##amino: B-Chemical\n",
      "##phen: B-Chemical\n",
      "is: O\n",
      "used: O\n",
      "to: O\n",
      "treat: O\n",
      "mild: O\n",
      "to: O\n",
      "moderate: O\n",
      "pain: B-Disease\n",
      "and: O\n",
      "fever: B-Disease\n",
      ".: O\n",
      "it: O\n",
      "is: O\n",
      "associated: O\n",
      "with: O\n",
      "liver: B-Disease\n",
      "damage: I-Disease\n",
      "if: O\n",
      "taken: O\n",
      "in: O\n",
      "high: O\n",
      "doses: O\n",
      ".: O\n",
      "patients: O\n",
      "with: O\n",
      "hepatitis: B-Disease\n",
      "should: O\n",
      "avoid: O\n",
      "its: O\n",
      "usage: O\n",
      ".: O\n"
     ]
    }
   ],
   "source": [
    "# Create a mapping from label IDs to BIO tags\n",
    "id_to_label = {v: k for k, v in label_to_id.items()}\n",
    "\n",
    "# Decode predictions\n",
    "decoded_tags = [id_to_label[label_id] for label_id in ner_preds[0].tolist()]\n",
    "\n",
    "# Map tokens to tags\n",
    "tokens = tokenizer_sci.convert_ids_to_tokens(inputs[\"input_ids\"][0])\n",
    "result = list(zip(tokens, decoded_tags))\n",
    "\n",
    "# Filter out special tokens ([CLS], [SEP], [PAD])\n",
    "result = [(token, tag) for token, tag in result if token not in [\"[CLS]\", \"[SEP]\", \"[PAD]\"]]\n",
    "\n",
    "# Display results\n",
    "for token, tag in result:\n",
    "    print(f\"{token}: {tag}\")"
   ]
  },
  {
   "cell_type": "code",
   "execution_count": 156,
   "id": "53c19b90",
   "metadata": {},
   "outputs": [
    {
     "name": "stdout",
     "output_type": "stream",
     "text": [
      "Extracted Entities: {'Chemical': ['acet', '##amino', '##phen'], 'Disease': ['pain', 'fever', 'liver', 'damage', 'hepatitis']}\n"
     ]
    }
   ],
   "source": [
    "# Post-process results\n",
    "extracted_entities = {\n",
    "    \"Chemical\": [],\n",
    "    \"Disease\": [],\n",
    "}\n",
    "\n",
    "for token, tag in result:\n",
    "    if tag.startswith(\"B-\") or tag.startswith(\"I-\"):\n",
    "        entity_type = tag.split(\"-\")[1]\n",
    "        extracted_entities[entity_type].append(token)\n",
    "\n",
    "print(\"Extracted Entities:\", extracted_entities)"
   ]
  },
  {
   "cell_type": "code",
   "execution_count": 157,
   "id": "57f6a2ce",
   "metadata": {},
   "outputs": [
    {
     "name": "stdout",
     "output_type": "stream",
     "text": [
      "Results saved to SciBert_ner_predictions.json\n"
     ]
    }
   ],
   "source": [
    "import json\n",
    "# Combine all information into a dictionary\n",
    "output_data = {\n",
    "    \"input_text\": input_text,\n",
    "    \"predictions\": [{\"token\": token, \"tag\": tag} for token, tag in result],\n",
    "    \"extracted_entities\": extracted_entities,\n",
    "}\n",
    "\n",
    "# Save the output to a JSON file\n",
    "output_file = \"SciBert_ner_predictions.json\"\n",
    "with open(output_file, \"w\") as f:\n",
    "    json.dump(output_data, f, indent=4)\n",
    "\n",
    "print(f\"Results saved to {output_file}\")"
   ]
  },
  {
   "cell_type": "markdown",
   "id": "054ade3a",
   "metadata": {},
   "source": [
    "## Resources\n",
    "\n",
    "1. **Dataset Research**:\n",
    "    - [BC5CDR](https://huggingface.co/datasets/bigbio/bc5cdr).\n",
    "    - [CHEM_DIS_GENE](https://huggingface.co/datasets/bigbio/chem_dis_gene).\n",
    "\n",
    "2. **Papers for Reference**:\n",
    "\n",
    "    Papers on biomedical relation extraction using BERT-based and GPT-based models:\n",
    "    - [BioBERT](https://pubmed.ncbi.nlm.nih.gov/31408207/): Focused on Named Entity Recognition (NER) and Relation Extraction (RE) in biomedical texts.\n",
    "    - [SciBERT](https://aclanthology.org/D19-1371/): Domain-specific embeddings for biomedical tasks.\n",
    "\n",
    "3. **MeSH Browser:** \n",
    "    - You can explore the official MeSH terms using the [MeSH Browser](https://meshb.nlm.nih.gov/search).\n",
    "    \n",
    "    \n",
    "    - [MeSH Base URL](https://id.nlm.nih.gov/mesh/lookup/term)"
   ]
  },
  {
   "cell_type": "markdown",
   "id": "acb9cd5e",
   "metadata": {},
   "source": [
    "## Future Work:\n",
    "\n",
    "1. **Implement Data Augmentation** \n",
    "\n",
    "2. **Include Gene entity In NER Tasks**\n",
    "\n",
    "3. **⁠⁠Train on Large Language Models**\n",
    "\n",
    "4. ⁠⁠**Replicate a existing paper**\n",
    "\n",
    "5. ⁠⁠**Train with different models like Mamba/Jamba**"
   ]
  },
  {
   "cell_type": "markdown",
   "id": "e60a04ef",
   "metadata": {},
   "source": [
    "### Team Setup\n",
    "\n",
    "\n",
    "| **Team Member**   | **Responsibilities**                                                                 |\n",
    "|-------------------|--------------------------------------------------------------------------------------|\n",
    "| **Aziz** |  Data preprocessing, fine-tuning BioBert for RE.                           |\n",
    "| **Pratul C Perla** | Data preprocessing, baseline model setup, NER tasks, Evaluation.                |"
   ]
  },
  {
   "cell_type": "code",
   "execution_count": null,
   "id": "b5f3e3cf",
   "metadata": {},
   "outputs": [],
   "source": []
  }
 ],
 "metadata": {
  "anaconda-cloud": {},
  "kernelspec": {
   "display_name": "Python [conda env:.conda-nlp_assignment]",
   "language": "python",
   "name": "conda-env-.conda-nlp_assignment-py"
  },
  "language_info": {
   "codemirror_mode": {
    "name": "ipython",
    "version": 3
   },
   "file_extension": ".py",
   "mimetype": "text/x-python",
   "name": "python",
   "nbconvert_exporter": "python",
   "pygments_lexer": "ipython3",
   "version": "3.12.5"
  }
 },
 "nbformat": 4,
 "nbformat_minor": 5
}
